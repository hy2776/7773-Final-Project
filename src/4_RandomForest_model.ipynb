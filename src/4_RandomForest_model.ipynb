{
 "cells": [
  {
   "cell_type": "code",
   "execution_count": 1,
   "id": "7bd97adc",
   "metadata": {},
   "outputs": [],
   "source": [
    "import matplotlib.pyplot as plt\n",
    "import numpy as np\n",
    "import pandas as pd\n",
    "from sklearn.impute import SimpleImputer\n",
    "from sklearn.linear_model import LogisticRegression\n",
    "from sklearn.metrics import classification_report, confusion_matrix\n",
    "from sklearn.preprocessing import LabelEncoder\n",
    "from sklearn.preprocessing import StandardScaler\n",
    "from sklearn.model_selection import train_test_split\n",
    "from sklearn.ensemble import RandomForestClassifier\n",
    "from sklearn.naive_bayes import GaussianNB\n",
    "from sklearn.neighbors import KNeighborsClassifier\n",
    "from sklearn.metrics import classification_report\n",
    "from sklearn.metrics import ConfusionMatrixDisplay\n",
    "from sklearn.metrics import f1_score, precision_score, recall_score,accuracy_score,roc_auc_score\n",
    "from imblearn.over_sampling import SMOTE\n",
    "from sklearn.model_selection import RepeatedStratifiedKFold\n",
    "from sklearn.model_selection import cross_val_score\n",
    "from numpy import mean\n",
    "from numpy import std"
   ]
  },
  {
   "cell_type": "markdown",
   "id": "640e24ec",
   "metadata": {},
   "source": [
    "# data loading"
   ]
  },
  {
   "cell_type": "code",
   "execution_count": 3,
   "id": "86c9f3cc",
   "metadata": {},
   "outputs": [],
   "source": [
    "df = pd.read_csv(\"../data/preprocessed/dataset_merged_with_sentiment.csv\")\n",
    "df.set_index('observation_date', inplace = True)"
   ]
  },
  {
   "cell_type": "code",
   "execution_count": 4,
   "id": "0f7ff1de",
   "metadata": {
    "scrolled": true
   },
   "outputs": [
    {
     "name": "stdout",
     "output_type": "stream",
     "text": [
      "<class 'pandas.core.frame.DataFrame'>\n",
      "Index: 831 entries, 1954/7/1 to 2023/9/1\n",
      "Data columns (total 23 columns):\n",
      " #   Column              Non-Null Count  Dtype  \n",
      "---  ------              --------------  -----  \n",
      " 0   month               831 non-null    object \n",
      " 1   FEDFUNDS            831 non-null    float64\n",
      " 2   Target              830 non-null    float64\n",
      " 3   Target_category     830 non-null    object \n",
      " 4   PCE                 777 non-null    float64\n",
      " 5   Consumer_Sentiment  765 non-null    float64\n",
      " 6   Supply_NewHouse     729 non-null    float64\n",
      " 7   CPI                 831 non-null    float64\n",
      " 8   ISM PMI             831 non-null    float64\n",
      " 9   Housing_starts      765 non-null    float64\n",
      " 10  Unemp_rate          831 non-null    float64\n",
      " 11  SPX                 831 non-null    float64\n",
      " 12  10y_try             741 non-null    float64\n",
      " 13  year_month          214 non-null    object \n",
      " 14  content             214 non-null    object \n",
      " 15  word_count          214 non-null    float64\n",
      " 16  Sentiment           214 non-null    object \n",
      " 17  Sentiment_score     214 non-null    float64\n",
      " 18  sentiment_score_LM  214 non-null    float64\n",
      " 19  NPositiveWords      214 non-null    float64\n",
      " 20  NNegativeWords      214 non-null    float64\n",
      " 21  Poswords            214 non-null    object \n",
      " 22  Negwords            214 non-null    object \n",
      "dtypes: float64(16), object(7)\n",
      "memory usage: 155.8+ KB\n"
     ]
    }
   ],
   "source": [
    "df.info()"
   ]
  },
  {
   "cell_type": "code",
   "execution_count": 5,
   "metadata": {},
   "outputs": [
    {
     "data": {
      "text/plain": [
       "Index(['month', 'FEDFUNDS', 'Target', 'Target_category', 'PCE',\n",
       "       'Consumer_Sentiment', 'Supply_NewHouse', 'CPI', 'ISM PMI',\n",
       "       'Housing_starts', 'Unemp_rate', 'SPX', '10y_try', 'year_month',\n",
       "       'content', 'word_count', 'Sentiment', 'Sentiment_score',\n",
       "       'sentiment_score_LM', 'NPositiveWords', 'NNegativeWords', 'Poswords',\n",
       "       'Negwords'],\n",
       "      dtype='object')"
      ]
     },
     "execution_count": 5,
     "metadata": {},
     "output_type": "execute_result"
    }
   ],
   "source": [
    "df.columns"
   ]
  },
  {
   "cell_type": "code",
   "execution_count": 6,
   "metadata": {},
   "outputs": [
    {
     "data": {
      "text/html": [
       "<div>\n",
       "<style scoped>\n",
       "    .dataframe tbody tr th:only-of-type {\n",
       "        vertical-align: middle;\n",
       "    }\n",
       "\n",
       "    .dataframe tbody tr th {\n",
       "        vertical-align: top;\n",
       "    }\n",
       "\n",
       "    .dataframe thead th {\n",
       "        text-align: right;\n",
       "    }\n",
       "</style>\n",
       "<table border=\"1\" class=\"dataframe\">\n",
       "  <thead>\n",
       "    <tr style=\"text-align: right;\">\n",
       "      <th></th>\n",
       "      <th>Target_category</th>\n",
       "      <th>PCE</th>\n",
       "      <th>Consumer_Sentiment</th>\n",
       "      <th>Supply_NewHouse</th>\n",
       "      <th>CPI</th>\n",
       "      <th>ISM PMI</th>\n",
       "      <th>Housing_starts</th>\n",
       "      <th>Unemp_rate</th>\n",
       "      <th>SPX</th>\n",
       "      <th>10y_try</th>\n",
       "      <th>sentiment_score_LM</th>\n",
       "      <th>Sentiment</th>\n",
       "    </tr>\n",
       "    <tr>\n",
       "      <th>observation_date</th>\n",
       "      <th></th>\n",
       "      <th></th>\n",
       "      <th></th>\n",
       "      <th></th>\n",
       "      <th></th>\n",
       "      <th></th>\n",
       "      <th></th>\n",
       "      <th></th>\n",
       "      <th></th>\n",
       "      <th></th>\n",
       "      <th></th>\n",
       "      <th></th>\n",
       "    </tr>\n",
       "  </thead>\n",
       "  <tbody>\n",
       "    <tr>\n",
       "      <th>1954/7/1</th>\n",
       "      <td>NaN</td>\n",
       "      <td>NaN</td>\n",
       "      <td>NaN</td>\n",
       "      <td>NaN</td>\n",
       "      <td>26.860</td>\n",
       "      <td>63.8</td>\n",
       "      <td>NaN</td>\n",
       "      <td>5.8</td>\n",
       "      <td>30.88</td>\n",
       "      <td>NaN</td>\n",
       "      <td>NaN</td>\n",
       "      <td>NaN</td>\n",
       "    </tr>\n",
       "    <tr>\n",
       "      <th>1954/8/1</th>\n",
       "      <td>increase</td>\n",
       "      <td>NaN</td>\n",
       "      <td>NaN</td>\n",
       "      <td>NaN</td>\n",
       "      <td>26.850</td>\n",
       "      <td>56.6</td>\n",
       "      <td>NaN</td>\n",
       "      <td>6.0</td>\n",
       "      <td>29.83</td>\n",
       "      <td>NaN</td>\n",
       "      <td>NaN</td>\n",
       "      <td>NaN</td>\n",
       "    </tr>\n",
       "    <tr>\n",
       "      <th>1954/9/1</th>\n",
       "      <td>decrease</td>\n",
       "      <td>NaN</td>\n",
       "      <td>NaN</td>\n",
       "      <td>NaN</td>\n",
       "      <td>26.810</td>\n",
       "      <td>62.2</td>\n",
       "      <td>NaN</td>\n",
       "      <td>6.1</td>\n",
       "      <td>32.31</td>\n",
       "      <td>NaN</td>\n",
       "      <td>NaN</td>\n",
       "      <td>NaN</td>\n",
       "    </tr>\n",
       "    <tr>\n",
       "      <th>1954/10/1</th>\n",
       "      <td>decrease</td>\n",
       "      <td>NaN</td>\n",
       "      <td>NaN</td>\n",
       "      <td>NaN</td>\n",
       "      <td>26.720</td>\n",
       "      <td>66.7</td>\n",
       "      <td>NaN</td>\n",
       "      <td>5.7</td>\n",
       "      <td>31.68</td>\n",
       "      <td>NaN</td>\n",
       "      <td>NaN</td>\n",
       "      <td>NaN</td>\n",
       "    </tr>\n",
       "    <tr>\n",
       "      <th>1954/11/1</th>\n",
       "      <td>decrease</td>\n",
       "      <td>NaN</td>\n",
       "      <td>NaN</td>\n",
       "      <td>NaN</td>\n",
       "      <td>26.780</td>\n",
       "      <td>66.0</td>\n",
       "      <td>NaN</td>\n",
       "      <td>5.3</td>\n",
       "      <td>34.24</td>\n",
       "      <td>NaN</td>\n",
       "      <td>NaN</td>\n",
       "      <td>NaN</td>\n",
       "    </tr>\n",
       "    <tr>\n",
       "      <th>...</th>\n",
       "      <td>...</td>\n",
       "      <td>...</td>\n",
       "      <td>...</td>\n",
       "      <td>...</td>\n",
       "      <td>...</td>\n",
       "      <td>...</td>\n",
       "      <td>...</td>\n",
       "      <td>...</td>\n",
       "      <td>...</td>\n",
       "      <td>...</td>\n",
       "      <td>...</td>\n",
       "      <td>...</td>\n",
       "    </tr>\n",
       "    <tr>\n",
       "      <th>2023/5/1</th>\n",
       "      <td>increase</td>\n",
       "      <td>118.984</td>\n",
       "      <td>97.21225</td>\n",
       "      <td>7.2</td>\n",
       "      <td>303.294</td>\n",
       "      <td>46.9</td>\n",
       "      <td>1496.0</td>\n",
       "      <td>3.7</td>\n",
       "      <td>4179.83</td>\n",
       "      <td>3.646</td>\n",
       "      <td>-0.591716</td>\n",
       "      <td>positive</td>\n",
       "    </tr>\n",
       "    <tr>\n",
       "      <th>2023/6/1</th>\n",
       "      <td>increase</td>\n",
       "      <td>119.189</td>\n",
       "      <td>97.50814</td>\n",
       "      <td>7.5</td>\n",
       "      <td>303.841</td>\n",
       "      <td>46.0</td>\n",
       "      <td>1441.0</td>\n",
       "      <td>3.6</td>\n",
       "      <td>4450.38</td>\n",
       "      <td>3.840</td>\n",
       "      <td>-0.564972</td>\n",
       "      <td>positive</td>\n",
       "    </tr>\n",
       "    <tr>\n",
       "      <th>2023/7/1</th>\n",
       "      <td>increase</td>\n",
       "      <td>119.449</td>\n",
       "      <td>97.87399</td>\n",
       "      <td>7.0</td>\n",
       "      <td>304.348</td>\n",
       "      <td>46.4</td>\n",
       "      <td>1443.0</td>\n",
       "      <td>3.5</td>\n",
       "      <td>4588.96</td>\n",
       "      <td>3.962</td>\n",
       "      <td>-0.584795</td>\n",
       "      <td>positive</td>\n",
       "    </tr>\n",
       "    <tr>\n",
       "      <th>2023/8/1</th>\n",
       "      <td>increase</td>\n",
       "      <td>119.622</td>\n",
       "      <td>98.00307</td>\n",
       "      <td>7.8</td>\n",
       "      <td>306.269</td>\n",
       "      <td>47.6</td>\n",
       "      <td>1541.0</td>\n",
       "      <td>3.8</td>\n",
       "      <td>4507.66</td>\n",
       "      <td>4.109</td>\n",
       "      <td>-0.584795</td>\n",
       "      <td>positive</td>\n",
       "    </tr>\n",
       "    <tr>\n",
       "      <th>2023/9/1</th>\n",
       "      <td>hold</td>\n",
       "      <td>119.911</td>\n",
       "      <td>97.99882</td>\n",
       "      <td>7.2</td>\n",
       "      <td>307.481</td>\n",
       "      <td>49.0</td>\n",
       "      <td>1471.0</td>\n",
       "      <td>3.8</td>\n",
       "      <td>4288.05</td>\n",
       "      <td>4.572</td>\n",
       "      <td>-0.578035</td>\n",
       "      <td>positive</td>\n",
       "    </tr>\n",
       "  </tbody>\n",
       "</table>\n",
       "<p>831 rows × 12 columns</p>\n",
       "</div>"
      ],
      "text/plain": [
       "                 Target_category      PCE  Consumer_Sentiment  \\\n",
       "observation_date                                                \n",
       "1954/7/1                     NaN      NaN                 NaN   \n",
       "1954/8/1                increase      NaN                 NaN   \n",
       "1954/9/1                decrease      NaN                 NaN   \n",
       "1954/10/1               decrease      NaN                 NaN   \n",
       "1954/11/1               decrease      NaN                 NaN   \n",
       "...                          ...      ...                 ...   \n",
       "2023/5/1                increase  118.984            97.21225   \n",
       "2023/6/1                increase  119.189            97.50814   \n",
       "2023/7/1                increase  119.449            97.87399   \n",
       "2023/8/1                increase  119.622            98.00307   \n",
       "2023/9/1                    hold  119.911            97.99882   \n",
       "\n",
       "                  Supply_NewHouse      CPI  ISM PMI  Housing_starts  \\\n",
       "observation_date                                                      \n",
       "1954/7/1                      NaN   26.860     63.8             NaN   \n",
       "1954/8/1                      NaN   26.850     56.6             NaN   \n",
       "1954/9/1                      NaN   26.810     62.2             NaN   \n",
       "1954/10/1                     NaN   26.720     66.7             NaN   \n",
       "1954/11/1                     NaN   26.780     66.0             NaN   \n",
       "...                           ...      ...      ...             ...   \n",
       "2023/5/1                      7.2  303.294     46.9          1496.0   \n",
       "2023/6/1                      7.5  303.841     46.0          1441.0   \n",
       "2023/7/1                      7.0  304.348     46.4          1443.0   \n",
       "2023/8/1                      7.8  306.269     47.6          1541.0   \n",
       "2023/9/1                      7.2  307.481     49.0          1471.0   \n",
       "\n",
       "                  Unemp_rate      SPX  10y_try  sentiment_score_LM Sentiment  \n",
       "observation_date                                                              \n",
       "1954/7/1                 5.8    30.88      NaN                 NaN       NaN  \n",
       "1954/8/1                 6.0    29.83      NaN                 NaN       NaN  \n",
       "1954/9/1                 6.1    32.31      NaN                 NaN       NaN  \n",
       "1954/10/1                5.7    31.68      NaN                 NaN       NaN  \n",
       "1954/11/1                5.3    34.24      NaN                 NaN       NaN  \n",
       "...                      ...      ...      ...                 ...       ...  \n",
       "2023/5/1                 3.7  4179.83    3.646           -0.591716  positive  \n",
       "2023/6/1                 3.6  4450.38    3.840           -0.564972  positive  \n",
       "2023/7/1                 3.5  4588.96    3.962           -0.584795  positive  \n",
       "2023/8/1                 3.8  4507.66    4.109           -0.584795  positive  \n",
       "2023/9/1                 3.8  4288.05    4.572           -0.578035  positive  \n",
       "\n",
       "[831 rows x 12 columns]"
      ]
     },
     "execution_count": 6,
     "metadata": {},
     "output_type": "execute_result"
    }
   ],
   "source": [
    "target = ['Target_category']\n",
    "num_features = ['PCE','Consumer_Sentiment','Supply_NewHouse','CPI','ISM PMI','Housing_starts','Unemp_rate','SPX','10y_try','sentiment_score_LM']\n",
    "cat_features = ['Sentiment']\n",
    "df2 = df[target + num_features+cat_features]\n",
    "df2 = df2.ffill() # use last value to fill nan\n",
    "df2"
   ]
  },
  {
   "cell_type": "code",
   "execution_count": 7,
   "metadata": {},
   "outputs": [],
   "source": [
    "# transform sentiment\n",
    "sentiment_mapping = {\n",
    "    'positive': 1,\n",
    "    'negative': -1,\n",
    "    'neutral': 0\n",
    "}\n",
    "target_mapping = {\n",
    "    'increase': 1,\n",
    "    'decrease': -1,\n",
    "    'hold': 0\n",
    "}\n",
    "df2 = df2.copy()\n",
    "df2['Sentiment'] = df2['Sentiment'].map(sentiment_mapping)\n",
    "df2['Target_category'] = df2['Target_category'].map(target_mapping)"
   ]
  },
  {
   "cell_type": "code",
   "execution_count": 8,
   "metadata": {},
   "outputs": [
    {
     "data": {
      "text/html": [
       "<div>\n",
       "<style scoped>\n",
       "    .dataframe tbody tr th:only-of-type {\n",
       "        vertical-align: middle;\n",
       "    }\n",
       "\n",
       "    .dataframe tbody tr th {\n",
       "        vertical-align: top;\n",
       "    }\n",
       "\n",
       "    .dataframe thead th {\n",
       "        text-align: right;\n",
       "    }\n",
       "</style>\n",
       "<table border=\"1\" class=\"dataframe\">\n",
       "  <thead>\n",
       "    <tr style=\"text-align: right;\">\n",
       "      <th></th>\n",
       "      <th>Target_category</th>\n",
       "      <th>PCE</th>\n",
       "      <th>Consumer_Sentiment</th>\n",
       "      <th>Supply_NewHouse</th>\n",
       "      <th>CPI</th>\n",
       "      <th>ISM PMI</th>\n",
       "      <th>Housing_starts</th>\n",
       "      <th>Unemp_rate</th>\n",
       "      <th>SPX</th>\n",
       "      <th>10y_try</th>\n",
       "      <th>sentiment_score_LM</th>\n",
       "      <th>Sentiment</th>\n",
       "    </tr>\n",
       "    <tr>\n",
       "      <th>observation_date</th>\n",
       "      <th></th>\n",
       "      <th></th>\n",
       "      <th></th>\n",
       "      <th></th>\n",
       "      <th></th>\n",
       "      <th></th>\n",
       "      <th></th>\n",
       "      <th></th>\n",
       "      <th></th>\n",
       "      <th></th>\n",
       "      <th></th>\n",
       "      <th></th>\n",
       "    </tr>\n",
       "  </thead>\n",
       "  <tbody>\n",
       "    <tr>\n",
       "      <th>1954/7/1</th>\n",
       "      <td>NaN</td>\n",
       "      <td>NaN</td>\n",
       "      <td>NaN</td>\n",
       "      <td>NaN</td>\n",
       "      <td>26.860</td>\n",
       "      <td>63.8</td>\n",
       "      <td>NaN</td>\n",
       "      <td>5.8</td>\n",
       "      <td>30.88</td>\n",
       "      <td>NaN</td>\n",
       "      <td>NaN</td>\n",
       "      <td>NaN</td>\n",
       "    </tr>\n",
       "    <tr>\n",
       "      <th>1954/8/1</th>\n",
       "      <td>1.0</td>\n",
       "      <td>NaN</td>\n",
       "      <td>NaN</td>\n",
       "      <td>NaN</td>\n",
       "      <td>26.850</td>\n",
       "      <td>56.6</td>\n",
       "      <td>NaN</td>\n",
       "      <td>6.0</td>\n",
       "      <td>29.83</td>\n",
       "      <td>NaN</td>\n",
       "      <td>NaN</td>\n",
       "      <td>NaN</td>\n",
       "    </tr>\n",
       "    <tr>\n",
       "      <th>1954/9/1</th>\n",
       "      <td>-1.0</td>\n",
       "      <td>NaN</td>\n",
       "      <td>NaN</td>\n",
       "      <td>NaN</td>\n",
       "      <td>26.810</td>\n",
       "      <td>62.2</td>\n",
       "      <td>NaN</td>\n",
       "      <td>6.1</td>\n",
       "      <td>32.31</td>\n",
       "      <td>NaN</td>\n",
       "      <td>NaN</td>\n",
       "      <td>NaN</td>\n",
       "    </tr>\n",
       "    <tr>\n",
       "      <th>1954/10/1</th>\n",
       "      <td>-1.0</td>\n",
       "      <td>NaN</td>\n",
       "      <td>NaN</td>\n",
       "      <td>NaN</td>\n",
       "      <td>26.720</td>\n",
       "      <td>66.7</td>\n",
       "      <td>NaN</td>\n",
       "      <td>5.7</td>\n",
       "      <td>31.68</td>\n",
       "      <td>NaN</td>\n",
       "      <td>NaN</td>\n",
       "      <td>NaN</td>\n",
       "    </tr>\n",
       "    <tr>\n",
       "      <th>1954/11/1</th>\n",
       "      <td>-1.0</td>\n",
       "      <td>NaN</td>\n",
       "      <td>NaN</td>\n",
       "      <td>NaN</td>\n",
       "      <td>26.780</td>\n",
       "      <td>66.0</td>\n",
       "      <td>NaN</td>\n",
       "      <td>5.3</td>\n",
       "      <td>34.24</td>\n",
       "      <td>NaN</td>\n",
       "      <td>NaN</td>\n",
       "      <td>NaN</td>\n",
       "    </tr>\n",
       "    <tr>\n",
       "      <th>...</th>\n",
       "      <td>...</td>\n",
       "      <td>...</td>\n",
       "      <td>...</td>\n",
       "      <td>...</td>\n",
       "      <td>...</td>\n",
       "      <td>...</td>\n",
       "      <td>...</td>\n",
       "      <td>...</td>\n",
       "      <td>...</td>\n",
       "      <td>...</td>\n",
       "      <td>...</td>\n",
       "      <td>...</td>\n",
       "    </tr>\n",
       "    <tr>\n",
       "      <th>2023/5/1</th>\n",
       "      <td>1.0</td>\n",
       "      <td>118.984</td>\n",
       "      <td>97.21225</td>\n",
       "      <td>7.2</td>\n",
       "      <td>303.294</td>\n",
       "      <td>46.9</td>\n",
       "      <td>1496.0</td>\n",
       "      <td>3.7</td>\n",
       "      <td>4179.83</td>\n",
       "      <td>3.646</td>\n",
       "      <td>-0.591716</td>\n",
       "      <td>1.0</td>\n",
       "    </tr>\n",
       "    <tr>\n",
       "      <th>2023/6/1</th>\n",
       "      <td>1.0</td>\n",
       "      <td>119.189</td>\n",
       "      <td>97.50814</td>\n",
       "      <td>7.5</td>\n",
       "      <td>303.841</td>\n",
       "      <td>46.0</td>\n",
       "      <td>1441.0</td>\n",
       "      <td>3.6</td>\n",
       "      <td>4450.38</td>\n",
       "      <td>3.840</td>\n",
       "      <td>-0.564972</td>\n",
       "      <td>1.0</td>\n",
       "    </tr>\n",
       "    <tr>\n",
       "      <th>2023/7/1</th>\n",
       "      <td>1.0</td>\n",
       "      <td>119.449</td>\n",
       "      <td>97.87399</td>\n",
       "      <td>7.0</td>\n",
       "      <td>304.348</td>\n",
       "      <td>46.4</td>\n",
       "      <td>1443.0</td>\n",
       "      <td>3.5</td>\n",
       "      <td>4588.96</td>\n",
       "      <td>3.962</td>\n",
       "      <td>-0.584795</td>\n",
       "      <td>1.0</td>\n",
       "    </tr>\n",
       "    <tr>\n",
       "      <th>2023/8/1</th>\n",
       "      <td>1.0</td>\n",
       "      <td>119.622</td>\n",
       "      <td>98.00307</td>\n",
       "      <td>7.8</td>\n",
       "      <td>306.269</td>\n",
       "      <td>47.6</td>\n",
       "      <td>1541.0</td>\n",
       "      <td>3.8</td>\n",
       "      <td>4507.66</td>\n",
       "      <td>4.109</td>\n",
       "      <td>-0.584795</td>\n",
       "      <td>1.0</td>\n",
       "    </tr>\n",
       "    <tr>\n",
       "      <th>2023/9/1</th>\n",
       "      <td>0.0</td>\n",
       "      <td>119.911</td>\n",
       "      <td>97.99882</td>\n",
       "      <td>7.2</td>\n",
       "      <td>307.481</td>\n",
       "      <td>49.0</td>\n",
       "      <td>1471.0</td>\n",
       "      <td>3.8</td>\n",
       "      <td>4288.05</td>\n",
       "      <td>4.572</td>\n",
       "      <td>-0.578035</td>\n",
       "      <td>1.0</td>\n",
       "    </tr>\n",
       "  </tbody>\n",
       "</table>\n",
       "<p>831 rows × 12 columns</p>\n",
       "</div>"
      ],
      "text/plain": [
       "                  Target_category      PCE  Consumer_Sentiment  \\\n",
       "observation_date                                                 \n",
       "1954/7/1                      NaN      NaN                 NaN   \n",
       "1954/8/1                      1.0      NaN                 NaN   \n",
       "1954/9/1                     -1.0      NaN                 NaN   \n",
       "1954/10/1                    -1.0      NaN                 NaN   \n",
       "1954/11/1                    -1.0      NaN                 NaN   \n",
       "...                           ...      ...                 ...   \n",
       "2023/5/1                      1.0  118.984            97.21225   \n",
       "2023/6/1                      1.0  119.189            97.50814   \n",
       "2023/7/1                      1.0  119.449            97.87399   \n",
       "2023/8/1                      1.0  119.622            98.00307   \n",
       "2023/9/1                      0.0  119.911            97.99882   \n",
       "\n",
       "                  Supply_NewHouse      CPI  ISM PMI  Housing_starts  \\\n",
       "observation_date                                                      \n",
       "1954/7/1                      NaN   26.860     63.8             NaN   \n",
       "1954/8/1                      NaN   26.850     56.6             NaN   \n",
       "1954/9/1                      NaN   26.810     62.2             NaN   \n",
       "1954/10/1                     NaN   26.720     66.7             NaN   \n",
       "1954/11/1                     NaN   26.780     66.0             NaN   \n",
       "...                           ...      ...      ...             ...   \n",
       "2023/5/1                      7.2  303.294     46.9          1496.0   \n",
       "2023/6/1                      7.5  303.841     46.0          1441.0   \n",
       "2023/7/1                      7.0  304.348     46.4          1443.0   \n",
       "2023/8/1                      7.8  306.269     47.6          1541.0   \n",
       "2023/9/1                      7.2  307.481     49.0          1471.0   \n",
       "\n",
       "                  Unemp_rate      SPX  10y_try  sentiment_score_LM  Sentiment  \n",
       "observation_date                                                               \n",
       "1954/7/1                 5.8    30.88      NaN                 NaN        NaN  \n",
       "1954/8/1                 6.0    29.83      NaN                 NaN        NaN  \n",
       "1954/9/1                 6.1    32.31      NaN                 NaN        NaN  \n",
       "1954/10/1                5.7    31.68      NaN                 NaN        NaN  \n",
       "1954/11/1                5.3    34.24      NaN                 NaN        NaN  \n",
       "...                      ...      ...      ...                 ...        ...  \n",
       "2023/5/1                 3.7  4179.83    3.646           -0.591716        1.0  \n",
       "2023/6/1                 3.6  4450.38    3.840           -0.564972        1.0  \n",
       "2023/7/1                 3.5  4588.96    3.962           -0.584795        1.0  \n",
       "2023/8/1                 3.8  4507.66    4.109           -0.584795        1.0  \n",
       "2023/9/1                 3.8  4288.05    4.572           -0.578035        1.0  \n",
       "\n",
       "[831 rows x 12 columns]"
      ]
     },
     "execution_count": 8,
     "metadata": {},
     "output_type": "execute_result"
    }
   ],
   "source": [
    "df2"
   ]
  },
  {
   "cell_type": "code",
   "execution_count": 9,
   "metadata": {},
   "outputs": [],
   "source": [
    "# shift data \n",
    "def shift_data(data, n):\n",
    "    data_shift = data.shift(n)\n",
    "    colnames = [fea + '_s' + str(n) for fea in data.columns]\n",
    "    data_shift.columns = colnames\n",
    "    return data_shift\n",
    "\n",
    "# percent change for numerical feature\n",
    "def pctchg_data(data):\n",
    "    data_pctchg = data.pct_change()\n",
    "    colnames = [fea + '_pctchg' for fea in data.columns]\n",
    "    data_pctchg.columns = colnames\n",
    "    return data_pctchg\n",
    "\n",
    "df_shift1 = shift_data(df2[num_features+cat_features], 1)\n",
    "df_shift2 = shift_data(df2[num_features+cat_features], 2)\n",
    "df_shift3 = shift_data(df2[num_features+cat_features], 3)\n",
    "df_pctchg = pctchg_data(df2[num_features])\n",
    "df_pctchg_shift1 = shift_data(df_pctchg, 1)\n",
    "df_pctchg_shift2 = shift_data(df_pctchg, 2)\n",
    "df_pctchg_shift3 = shift_data(df_pctchg, 3)\n",
    "\n",
    "df_all = pd.concat([df2,\n",
    "           df_shift1,\n",
    "           df_shift2,\n",
    "           df_shift3,\n",
    "           df_pctchg,\n",
    "           df_pctchg_shift1,\n",
    "           df_pctchg_shift2,\n",
    "           df_pctchg_shift3], axis = 1)"
   ]
  },
  {
   "cell_type": "code",
   "execution_count": 10,
   "id": "83d8cf5f",
   "metadata": {},
   "outputs": [
    {
     "data": {
      "text/html": [
       "<div>\n",
       "<style scoped>\n",
       "    .dataframe tbody tr th:only-of-type {\n",
       "        vertical-align: middle;\n",
       "    }\n",
       "\n",
       "    .dataframe tbody tr th {\n",
       "        vertical-align: top;\n",
       "    }\n",
       "\n",
       "    .dataframe thead th {\n",
       "        text-align: right;\n",
       "    }\n",
       "</style>\n",
       "<table border=\"1\" class=\"dataframe\">\n",
       "  <thead>\n",
       "    <tr style=\"text-align: right;\">\n",
       "      <th></th>\n",
       "      <th>PCE</th>\n",
       "      <th>Consumer_Sentiment</th>\n",
       "      <th>Supply_NewHouse</th>\n",
       "      <th>CPI</th>\n",
       "      <th>ISM PMI</th>\n",
       "      <th>Housing_starts</th>\n",
       "      <th>Unemp_rate</th>\n",
       "      <th>SPX</th>\n",
       "      <th>10y_try</th>\n",
       "      <th>sentiment_score_LM</th>\n",
       "      <th>Sentiment</th>\n",
       "    </tr>\n",
       "  </thead>\n",
       "  <tbody>\n",
       "    <tr>\n",
       "      <th>count</th>\n",
       "      <td>777.000000</td>\n",
       "      <td>765.000000</td>\n",
       "      <td>729.000000</td>\n",
       "      <td>831.000000</td>\n",
       "      <td>831.000000</td>\n",
       "      <td>765.000000</td>\n",
       "      <td>831.000000</td>\n",
       "      <td>831.000000</td>\n",
       "      <td>741.000000</td>\n",
       "      <td>356.000000</td>\n",
       "      <td>356.000000</td>\n",
       "    </tr>\n",
       "    <tr>\n",
       "      <th>mean</th>\n",
       "      <td>58.946678</td>\n",
       "      <td>100.000000</td>\n",
       "      <td>6.093278</td>\n",
       "      <td>128.531264</td>\n",
       "      <td>55.724669</td>\n",
       "      <td>1370.415686</td>\n",
       "      <td>5.857762</td>\n",
       "      <td>821.662900</td>\n",
       "      <td>5.867625</td>\n",
       "      <td>-0.373729</td>\n",
       "      <td>0.485955</td>\n",
       "    </tr>\n",
       "    <tr>\n",
       "      <th>std</th>\n",
       "      <td>31.074711</td>\n",
       "      <td>1.481537</td>\n",
       "      <td>1.656902</td>\n",
       "      <td>82.608377</td>\n",
       "      <td>7.944666</td>\n",
       "      <td>380.483066</td>\n",
       "      <td>1.666064</td>\n",
       "      <td>1042.433709</td>\n",
       "      <td>2.995255</td>\n",
       "      <td>2.352928</td>\n",
       "      <td>0.588457</td>\n",
       "    </tr>\n",
       "    <tr>\n",
       "      <th>min</th>\n",
       "      <td>15.501000</td>\n",
       "      <td>96.134240</td>\n",
       "      <td>3.300000</td>\n",
       "      <td>26.710000</td>\n",
       "      <td>23.200000</td>\n",
       "      <td>513.000000</td>\n",
       "      <td>3.400000</td>\n",
       "      <td>29.830000</td>\n",
       "      <td>0.529000</td>\n",
       "      <td>-10.344828</td>\n",
       "      <td>-1.000000</td>\n",
       "    </tr>\n",
       "    <tr>\n",
       "      <th>25%</th>\n",
       "      <td>26.441000</td>\n",
       "      <td>98.878640</td>\n",
       "      <td>4.900000</td>\n",
       "      <td>40.950000</td>\n",
       "      <td>51.100000</td>\n",
       "      <td>1118.000000</td>\n",
       "      <td>4.600000</td>\n",
       "      <td>94.790000</td>\n",
       "      <td>3.839000</td>\n",
       "      <td>-1.513306</td>\n",
       "      <td>0.000000</td>\n",
       "    </tr>\n",
       "    <tr>\n",
       "      <th>50%</th>\n",
       "      <td>62.307000</td>\n",
       "      <td>100.488800</td>\n",
       "      <td>5.800000</td>\n",
       "      <td>121.600000</td>\n",
       "      <td>56.400000</td>\n",
       "      <td>1351.000000</td>\n",
       "      <td>5.600000</td>\n",
       "      <td>306.050000</td>\n",
       "      <td>5.622000</td>\n",
       "      <td>0.000000</td>\n",
       "      <td>1.000000</td>\n",
       "    </tr>\n",
       "    <tr>\n",
       "      <th>75%</th>\n",
       "      <td>85.988000</td>\n",
       "      <td>101.064900</td>\n",
       "      <td>6.900000</td>\n",
       "      <td>201.550000</td>\n",
       "      <td>61.300000</td>\n",
       "      <td>1651.000000</td>\n",
       "      <td>6.900000</td>\n",
       "      <td>1251.390000</td>\n",
       "      <td>7.642000</td>\n",
       "      <td>1.320307</td>\n",
       "      <td>1.000000</td>\n",
       "    </tr>\n",
       "    <tr>\n",
       "      <th>max</th>\n",
       "      <td>119.911000</td>\n",
       "      <td>102.879900</td>\n",
       "      <td>12.200000</td>\n",
       "      <td>307.481000</td>\n",
       "      <td>74.800000</td>\n",
       "      <td>2419.000000</td>\n",
       "      <td>14.700000</td>\n",
       "      <td>4766.180000</td>\n",
       "      <td>15.842000</td>\n",
       "      <td>4.347826</td>\n",
       "      <td>1.000000</td>\n",
       "    </tr>\n",
       "  </tbody>\n",
       "</table>\n",
       "</div>"
      ],
      "text/plain": [
       "              PCE  Consumer_Sentiment  Supply_NewHouse         CPI  \\\n",
       "count  777.000000          765.000000       729.000000  831.000000   \n",
       "mean    58.946678          100.000000         6.093278  128.531264   \n",
       "std     31.074711            1.481537         1.656902   82.608377   \n",
       "min     15.501000           96.134240         3.300000   26.710000   \n",
       "25%     26.441000           98.878640         4.900000   40.950000   \n",
       "50%     62.307000          100.488800         5.800000  121.600000   \n",
       "75%     85.988000          101.064900         6.900000  201.550000   \n",
       "max    119.911000          102.879900        12.200000  307.481000   \n",
       "\n",
       "          ISM PMI  Housing_starts  Unemp_rate          SPX     10y_try  \\\n",
       "count  831.000000      765.000000  831.000000   831.000000  741.000000   \n",
       "mean    55.724669     1370.415686    5.857762   821.662900    5.867625   \n",
       "std      7.944666      380.483066    1.666064  1042.433709    2.995255   \n",
       "min     23.200000      513.000000    3.400000    29.830000    0.529000   \n",
       "25%     51.100000     1118.000000    4.600000    94.790000    3.839000   \n",
       "50%     56.400000     1351.000000    5.600000   306.050000    5.622000   \n",
       "75%     61.300000     1651.000000    6.900000  1251.390000    7.642000   \n",
       "max     74.800000     2419.000000   14.700000  4766.180000   15.842000   \n",
       "\n",
       "       sentiment_score_LM   Sentiment  \n",
       "count          356.000000  356.000000  \n",
       "mean            -0.373729    0.485955  \n",
       "std              2.352928    0.588457  \n",
       "min            -10.344828   -1.000000  \n",
       "25%             -1.513306    0.000000  \n",
       "50%              0.000000    1.000000  \n",
       "75%              1.320307    1.000000  \n",
       "max              4.347826    1.000000  "
      ]
     },
     "execution_count": 10,
     "metadata": {},
     "output_type": "execute_result"
    }
   ],
   "source": [
    "df_all[num_features+cat_features].describe()"
   ]
  },
  {
   "cell_type": "code",
   "execution_count": 11,
   "id": "94b7bcf1",
   "metadata": {},
   "outputs": [],
   "source": [
    "df_all.index = pd.to_datetime(df_all.index)"
   ]
  },
  {
   "cell_type": "code",
   "execution_count": 12,
   "id": "817fa688",
   "metadata": {
    "scrolled": true
   },
   "outputs": [
    {
     "name": "stdout",
     "output_type": "stream",
     "text": [
      "<class 'pandas.core.frame.DataFrame'>\n",
      "DatetimeIndex: 831 entries, 1954-07-01 to 2023-09-01\n",
      "Data columns (total 85 columns):\n",
      " #   Column                        Non-Null Count  Dtype  \n",
      "---  ------                        --------------  -----  \n",
      " 0   Target_category               830 non-null    float64\n",
      " 1   PCE                           777 non-null    float64\n",
      " 2   Consumer_Sentiment            765 non-null    float64\n",
      " 3   Supply_NewHouse               729 non-null    float64\n",
      " 4   CPI                           831 non-null    float64\n",
      " 5   ISM PMI                       831 non-null    float64\n",
      " 6   Housing_starts                765 non-null    float64\n",
      " 7   Unemp_rate                    831 non-null    float64\n",
      " 8   SPX                           831 non-null    float64\n",
      " 9   10y_try                       741 non-null    float64\n",
      " 10  sentiment_score_LM            356 non-null    float64\n",
      " 11  Sentiment                     356 non-null    float64\n",
      " 12  PCE_s1                        776 non-null    float64\n",
      " 13  Consumer_Sentiment_s1         764 non-null    float64\n",
      " 14  Supply_NewHouse_s1            728 non-null    float64\n",
      " 15  CPI_s1                        830 non-null    float64\n",
      " 16  ISM PMI_s1                    830 non-null    float64\n",
      " 17  Housing_starts_s1             764 non-null    float64\n",
      " 18  Unemp_rate_s1                 830 non-null    float64\n",
      " 19  SPX_s1                        830 non-null    float64\n",
      " 20  10y_try_s1                    740 non-null    float64\n",
      " 21  sentiment_score_LM_s1         355 non-null    float64\n",
      " 22  Sentiment_s1                  355 non-null    float64\n",
      " 23  PCE_s2                        775 non-null    float64\n",
      " 24  Consumer_Sentiment_s2         763 non-null    float64\n",
      " 25  Supply_NewHouse_s2            727 non-null    float64\n",
      " 26  CPI_s2                        829 non-null    float64\n",
      " 27  ISM PMI_s2                    829 non-null    float64\n",
      " 28  Housing_starts_s2             763 non-null    float64\n",
      " 29  Unemp_rate_s2                 829 non-null    float64\n",
      " 30  SPX_s2                        829 non-null    float64\n",
      " 31  10y_try_s2                    739 non-null    float64\n",
      " 32  sentiment_score_LM_s2         354 non-null    float64\n",
      " 33  Sentiment_s2                  354 non-null    float64\n",
      " 34  PCE_s3                        774 non-null    float64\n",
      " 35  Consumer_Sentiment_s3         762 non-null    float64\n",
      " 36  Supply_NewHouse_s3            726 non-null    float64\n",
      " 37  CPI_s3                        828 non-null    float64\n",
      " 38  ISM PMI_s3                    828 non-null    float64\n",
      " 39  Housing_starts_s3             762 non-null    float64\n",
      " 40  Unemp_rate_s3                 828 non-null    float64\n",
      " 41  SPX_s3                        828 non-null    float64\n",
      " 42  10y_try_s3                    738 non-null    float64\n",
      " 43  sentiment_score_LM_s3         353 non-null    float64\n",
      " 44  Sentiment_s3                  353 non-null    float64\n",
      " 45  PCE_pctchg                    776 non-null    float64\n",
      " 46  Consumer_Sentiment_pctchg     764 non-null    float64\n",
      " 47  Supply_NewHouse_pctchg        728 non-null    float64\n",
      " 48  CPI_pctchg                    830 non-null    float64\n",
      " 49  ISM PMI_pctchg                830 non-null    float64\n",
      " 50  Housing_starts_pctchg         764 non-null    float64\n",
      " 51  Unemp_rate_pctchg             830 non-null    float64\n",
      " 52  SPX_pctchg                    830 non-null    float64\n",
      " 53  10y_try_pctchg                740 non-null    float64\n",
      " 54  sentiment_score_LM_pctchg     326 non-null    float64\n",
      " 55  PCE_pctchg_s1                 775 non-null    float64\n",
      " 56  Consumer_Sentiment_pctchg_s1  763 non-null    float64\n",
      " 57  Supply_NewHouse_pctchg_s1     727 non-null    float64\n",
      " 58  CPI_pctchg_s1                 829 non-null    float64\n",
      " 59  ISM PMI_pctchg_s1             829 non-null    float64\n",
      " 60  Housing_starts_pctchg_s1      763 non-null    float64\n",
      " 61  Unemp_rate_pctchg_s1          829 non-null    float64\n",
      " 62  SPX_pctchg_s1                 829 non-null    float64\n",
      " 63  10y_try_pctchg_s1             739 non-null    float64\n",
      " 64  sentiment_score_LM_pctchg_s1  325 non-null    float64\n",
      " 65  PCE_pctchg_s2                 774 non-null    float64\n",
      " 66  Consumer_Sentiment_pctchg_s2  762 non-null    float64\n",
      " 67  Supply_NewHouse_pctchg_s2     726 non-null    float64\n",
      " 68  CPI_pctchg_s2                 828 non-null    float64\n",
      " 69  ISM PMI_pctchg_s2             828 non-null    float64\n",
      " 70  Housing_starts_pctchg_s2      762 non-null    float64\n",
      " 71  Unemp_rate_pctchg_s2          828 non-null    float64\n",
      " 72  SPX_pctchg_s2                 828 non-null    float64\n",
      " 73  10y_try_pctchg_s2             738 non-null    float64\n",
      " 74  sentiment_score_LM_pctchg_s2  324 non-null    float64\n",
      " 75  PCE_pctchg_s3                 773 non-null    float64\n",
      " 76  Consumer_Sentiment_pctchg_s3  761 non-null    float64\n",
      " 77  Supply_NewHouse_pctchg_s3     725 non-null    float64\n",
      " 78  CPI_pctchg_s3                 827 non-null    float64\n",
      " 79  ISM PMI_pctchg_s3             827 non-null    float64\n",
      " 80  Housing_starts_pctchg_s3      761 non-null    float64\n",
      " 81  Unemp_rate_pctchg_s3          827 non-null    float64\n",
      " 82  SPX_pctchg_s3                 827 non-null    float64\n",
      " 83  10y_try_pctchg_s3             737 non-null    float64\n",
      " 84  sentiment_score_LM_pctchg_s3  323 non-null    float64\n",
      "dtypes: float64(85)\n",
      "memory usage: 558.3 KB\n"
     ]
    }
   ],
   "source": [
    "df_all.info()"
   ]
  },
  {
   "cell_type": "code",
   "execution_count": 13,
   "id": "1f324941",
   "metadata": {},
   "outputs": [],
   "source": [
    "#look at only data after 1963, to avoid missing data\n",
    "#look at only data after 1994, to avoid missing data\n",
    "df_all2 = df_all[df_all.index>= '1994-01-01']\n",
    "df_all2 = df_all2.bfill().ffill()\n",
    "df_all2 = df_all2.replace(np.Inf,0).replace(-np.Inf, 0)"
   ]
  },
  {
   "cell_type": "markdown",
   "id": "42bc1076",
   "metadata": {},
   "source": [
    "# feature selectioin"
   ]
  },
  {
   "cell_type": "code",
   "execution_count": 14,
   "metadata": {},
   "outputs": [
    {
     "name": "stdout",
     "output_type": "stream",
     "text": [
      "Selected Features: Index(['ISM PMI', 'Unemp_rate', 'sentiment_score_LM', 'Sentiment',\n",
      "       'sentiment_score_LM_s1', 'Sentiment_s1', 'Housing_starts_s3',\n",
      "       'sentiment_score_LM_s3', 'PCE_pctchg', 'CPI_pctchg',\n",
      "       'Housing_starts_pctchg', 'SPX_pctchg', 'Consumer_Sentiment_pctchg_s1',\n",
      "       'ISM PMI_pctchg_s1', '10y_try_pctchg_s1', '10y_try_pctchg_s2'],\n",
      "      dtype='object')\n",
      "length of Selected Features: 16\n"
     ]
    }
   ],
   "source": [
    "import pandas as pd\n",
    "from sklearn.linear_model import Lasso\n",
    "from sklearn.preprocessing import StandardScaler\n",
    "from sklearn.model_selection import train_test_split\n",
    "\n",
    "X = df_all2.drop(target, axis=1)  \n",
    "y = df_all2[target]  \n",
    "\n",
    "scaler = StandardScaler()\n",
    "X_scaled = scaler.fit_transform(X)\n",
    "\n",
    "lasso = Lasso(alpha=0.06)\n",
    "lasso.fit(X_scaled, y)\n",
    "\n",
    "selected_features = X.columns[(lasso.coef_ != 0)]\n",
    "\n",
    "print(\"Selected Features:\", selected_features)\n",
    "print(\"length of Selected Features:\", len(selected_features))\n"
   ]
  },
  {
   "cell_type": "code",
   "execution_count": 96,
   "metadata": {},
   "outputs": [],
   "source": [
    "# selected_features = ['Sentiment_s1','ISM PMI','Unemp_rate','sentiment_score_LM','Housing_starts_s3']"
   ]
  },
  {
   "cell_type": "code",
   "execution_count": 15,
   "metadata": {},
   "outputs": [
    {
     "data": {
      "text/plain": [
       "Target_category\n",
       " 1.0               0.487395\n",
       "-1.0               0.333333\n",
       " 0.0               0.179272\n",
       "Name: count, dtype: float64"
      ]
     },
     "execution_count": 15,
     "metadata": {},
     "output_type": "execute_result"
    }
   ],
   "source": [
    "# check the proporation of each label\n",
    "df_all2[target].value_counts()/len(df_all2)"
   ]
  },
  {
   "cell_type": "markdown",
   "id": "fdd582e3",
   "metadata": {},
   "source": [
    "# Make Train and Test sets"
   ]
  },
  {
   "cell_type": "code",
   "execution_count": 16,
   "id": "22c565e8",
   "metadata": {},
   "outputs": [],
   "source": [
    "# Assign values to the X and y variables:\n",
    "X = df_all2[selected_features]\n",
    "y = df_all2[target]\n"
   ]
  },
  {
   "cell_type": "code",
   "execution_count": 103,
   "metadata": {},
   "outputs": [],
   "source": [
    "df_all2.to_csv('../data/preprocessed/df_train_1994.csv')"
   ]
  },
  {
   "cell_type": "code",
   "execution_count": 28,
   "id": "2f6fed4a",
   "metadata": {},
   "outputs": [],
   "source": [
    "\n",
    "X_train = X.iloc[:280]\n",
    "X_test = X.iloc[280:]\n",
    "y_train = y.iloc[:280]\n",
    "y_test = y.iloc[280:]\n",
    "\n",
    "# transform the dataset\n",
    "# oversample = SMOTE(k_neighbors=4)\n",
    "# X_train_os, y_train_os = oversample.fit_resample(X_train, y_train)\n",
    "# check the proporation of each label\n",
    "# print(y_train_os.value_counts())\n",
    "\n",
    "scaler = StandardScaler()\n",
    "X_train_scaled = scaler.fit_transform(X_train)\n",
    "X_test_scaled = scaler.transform(X_test)"
   ]
  },
  {
   "cell_type": "code",
   "execution_count": 31,
   "metadata": {},
   "outputs": [
    {
     "name": "stderr",
     "output_type": "stream",
     "text": [
      "/Users/hanyan/Desktop/NYU/7773 Machine Learning/ML_project/fomc/.venv/lib/python3.11/site-packages/sklearn/base.py:1152: DataConversionWarning: A column-vector y was passed when a 1d array was expected. Please change the shape of y to (n_samples,), for example using ravel().\n",
      "  return fit_method(estimator, *args, **kwargs)\n"
     ]
    }
   ],
   "source": [
    "rf_model = RandomForestClassifier(\n",
    "        class_weight='balanced'\n",
    "    )\n",
    "rf_model.fit(X_train_scaled, y_train)\n",
    "y_pred = rf_model.predict(X_test_scaled)\n"
   ]
  },
  {
   "cell_type": "code",
   "execution_count": 32,
   "metadata": {},
   "outputs": [
    {
     "data": {
      "text/plain": [
       "0.4935064935064935"
      ]
     },
     "execution_count": 32,
     "metadata": {},
     "output_type": "execute_result"
    }
   ],
   "source": [
    "accuracy_score(y_pred, y_test)"
   ]
  },
  {
   "cell_type": "markdown",
   "metadata": {},
   "source": [
    "# model"
   ]
  },
  {
   "cell_type": "code",
   "execution_count": 33,
   "metadata": {},
   "outputs": [],
   "source": [
    "# define train window\n",
    "start_train = df_all2.index.min()\n",
    "end_train = start_train + pd.DateOffset(months=200)  # 初始训练窗口大小，例如6个月\n",
    "end_test = df_all2.index.max()\n",
    "\n",
    "predictions = []\n",
    "true_values = []\n",
    "\n",
    "X = df_all2[selected_features]\n",
    "y = df_all2[target]\n",
    "\n",
    "scaler = StandardScaler()\n",
    "X_scaled = scaler.fit_transform(X)\n",
    "\n",
    "import pandas as pd\n",
    "from sklearn.ensemble import RandomForestClassifier\n",
    "from sklearn.metrics import accuracy_score\n",
    "\n",
    "while end_train <= end_test:\n",
    "\n",
    "    train_mask = (df_all2.index < end_train)\n",
    "    test_mask = (df_all2.index >= end_train) & (df_all2.index < end_train + pd.DateOffset(months=1))\n",
    "\n",
    "    X_train, y_train = X_scaled[train_mask], y[train_mask].values.ravel()\n",
    "    X_test, y_test = X_scaled[test_mask], y[test_mask].values.ravel()\n",
    "\n",
    "    rf_model = RandomForestClassifier(\n",
    "        class_weight='balanced'\n",
    "    )\n",
    "    rf_model.fit(X_train, y_train)\n",
    "\n",
    "    y_pred = rf_model.predict(X_test)\n",
    "\n",
    "    predictions.extend(y_pred)\n",
    "    true_values.extend(y_test)\n",
    "\n",
    "    # increase window size by 1 month\n",
    "    end_train += pd.DateOffset(months=1)"
   ]
  },
  {
   "cell_type": "code",
   "execution_count": 34,
   "metadata": {},
   "outputs": [
    {
     "name": "stdout",
     "output_type": "stream",
     "text": [
      "Accuracy: 0.47\n"
     ]
    }
   ],
   "source": [
    "accuracy = accuracy_score(true_values, predictions)\n",
    "print(f'Accuracy: {accuracy:.2f}')"
   ]
  },
  {
   "cell_type": "code",
   "execution_count": 35,
   "metadata": {},
   "outputs": [
    {
     "data": {
      "text/plain": [
       "Target_category\n",
       " 1.0               0.487395\n",
       "-1.0               0.333333\n",
       " 0.0               0.179272\n",
       "Name: count, dtype: float64"
      ]
     },
     "execution_count": 35,
     "metadata": {},
     "output_type": "execute_result"
    }
   ],
   "source": [
    "y.value_counts() / len(y)"
   ]
  },
  {
   "cell_type": "code",
   "execution_count": 81,
   "metadata": {},
   "outputs": [
    {
     "data": {
      "image/png": "[encoded data removed]",
      "text/plain": [
       "<Figure size 640x480 with 2 Axes>"
      ]
     },
     "metadata": {},
     "output_type": "display_data"
    }
   ],
   "source": [
    "ax = ConfusionMatrixDisplay.from_predictions(true_values, predictions)"
   ]
  },
  {
   "cell_type": "code",
   "execution_count": 722,
   "id": "63ba588e",
   "metadata": {},
   "outputs": [],
   "source": [
    "from sklearn.preprocessing import StandardScaler\n",
    "# Initialize SimpleImputer with strategy\n",
    "#imputer = SimpleImputer(strategy='mean')\n",
    "scaler = StandardScaler()\n",
    "# Fit the imputer on your data\n",
    "#imputer.fit(X_train)\n",
    "# Transform your data by filling missing values\n",
    "X_train = scaler.fit_transform(X_train)\n",
    "\n",
    "# Initialize SimpleImputer with strategy\n",
    "#imputer2 = SimpleImputer(strategy='mean')\n",
    "scaler = StandardScaler()\n",
    "# Fit the imputer on your data\n",
    "#imputer2.fit(X_test)\n",
    "# Transform your data by filling missing values\n",
    "X_test = scaler.fit_transform(X_test)"
   ]
  },
  {
   "cell_type": "code",
   "execution_count": 723,
   "id": "6828854d",
   "metadata": {},
   "outputs": [],
   "source": [
    "# Initialize SimpleImputer with strategy\n",
    "#imputer2 = SimpleImputer(strategy='mean')\n",
    "scaler = StandardScaler()\n",
    "# Fit the imputer on your data\n",
    "#imputer2.fit(X_test)\n",
    "# Transform your data by filling missing values\n",
    "X_test = scaler.fit_transform(X_test)"
   ]
  },
  {
   "cell_type": "markdown",
   "id": "5d595a31",
   "metadata": {},
   "source": [
    "# Oversampling "
   ]
  },
  {
   "cell_type": "code",
   "execution_count": 27,
   "id": "edffe500",
   "metadata": {},
   "outputs": [],
   "source": [
    "# transform the dataset\n",
    "oversample = SMOTE(k_neighbors=4)\n",
    "X_os, y_os = oversample.fit_resample(X, y)"
   ]
  },
  {
   "cell_type": "code",
   "execution_count": 704,
   "id": "95d562d8",
   "metadata": {},
   "outputs": [
    {
     "data": {
      "text/plain": [
       "pandas.core.series.Series"
      ]
     },
     "execution_count": 704,
     "metadata": {},
     "output_type": "execute_result"
    }
   ],
   "source": [
    "type(y_test)"
   ]
  },
  {
   "cell_type": "code",
   "execution_count": 705,
   "id": "fd71769b",
   "metadata": {},
   "outputs": [
    {
     "name": "stdout",
     "output_type": "stream",
     "text": [
      "Decrease count:28\n",
      "Increase count:28\n",
      "Hold count:28\n"
     ]
    }
   ],
   "source": [
    "print(\"Decrease count:\" + str(np.count_nonzero(y_test == 0)))\n",
    "print(\"Increase count:\" + str(np.count_nonzero(y_test == 2)))\n",
    "print(\"Hold count:\" + str(np.count_nonzero(y_test == 1)))"
   ]
  },
  {
   "cell_type": "code",
   "execution_count": 726,
   "id": "6ec8831e",
   "metadata": {},
   "outputs": [
    {
     "name": "stdout",
     "output_type": "stream",
     "text": [
      "Decrease count:174\n",
      "Increase count:174\n",
      "Hold count:174\n"
     ]
    }
   ],
   "source": [
    "print(\"Decrease count:\" + str(np.count_nonzero(y_train == 0)))\n",
    "print(\"Increase count:\" + str(np.count_nonzero(y_train == 2)))\n",
    "print(\"Hold count:\" + str(np.count_nonzero(y_train == 1)))"
   ]
  },
  {
   "cell_type": "markdown",
   "id": "18ae10cd",
   "metadata": {},
   "source": [
    "## Random Forest Model"
   ]
  },
  {
   "cell_type": "code",
   "execution_count": 707,
   "id": "321cd81d",
   "metadata": {},
   "outputs": [
    {
     "name": "stdout",
     "output_type": "stream",
     "text": [
      "{'n_estimators': [200, 400, 600, 800, 1000, 1200, 1400, 1600, 1800, 2000], 'max_features': ['auto', 'sqrt'], 'max_depth': [10, 20, 30, 40, 50, 60, 70, 80, 90, 100, 110, None], 'min_samples_split': [2, 5, 10], 'min_samples_leaf': [1, 2, 4], 'bootstrap': [True, False]}\n"
     ]
    }
   ],
   "source": [
    "from sklearn.model_selection import RandomizedSearchCV\n",
    "# Number of trees in random forest\n",
    "n_estimators = [int(x) for x in np.linspace(start = 200, stop = 2000, num = 10)]\n",
    "# Number of features to consider at every split\n",
    "max_features = ['auto', 'sqrt']\n",
    "# Maximum number of levels in tree\n",
    "max_depth = [int(x) for x in np.linspace(10, 110, num = 11)]\n",
    "max_depth.append(None)\n",
    "# Minimum number of samples required to split a node\n",
    "min_samples_split = [2, 5, 10]\n",
    "# Minimum number of samples required at each leaf node\n",
    "min_samples_leaf = [1, 2, 4]\n",
    "# Method of selecting samples for training each tree\n",
    "bootstrap = [True, False]\n",
    "# Create the random grid\n",
    "random_grid = {'n_estimators': n_estimators,\n",
    "               'max_features': max_features,\n",
    "               'max_depth': max_depth,\n",
    "               'min_samples_split': min_samples_split,\n",
    "               'min_samples_leaf': min_samples_leaf,\n",
    "               'bootstrap': bootstrap}\n",
    "print(random_grid)"
   ]
  },
  {
   "cell_type": "code",
   "execution_count": 727,
   "id": "db5e49da",
   "metadata": {},
   "outputs": [
    {
     "name": "stdout",
     "output_type": "stream",
     "text": [
      "Fitting 3 folds for each of 5 candidates, totalling 15 fits\n"
     ]
    },
    {
     "data": {
      "text/html": [
       "<style>#sk-container-id-20 {color: black;background-color: white;}#sk-container-id-20 pre{padding: 0;}#sk-container-id-20 div.sk-toggleable {background-color: white;}#sk-container-id-20 label.sk-toggleable__label {cursor: pointer;display: block;width: 100%;margin-bottom: 0;padding: 0.3em;box-sizing: border-box;text-align: center;}#sk-container-id-20 label.sk-toggleable__label-arrow:before {content: \"▸\";float: left;margin-right: 0.25em;color: #696969;}#sk-container-id-20 label.sk-toggleable__label-arrow:hover:before {color: black;}#sk-container-id-20 div.sk-estimator:hover label.sk-toggleable__label-arrow:before {color: black;}#sk-container-id-20 div.sk-toggleable__content {max-height: 0;max-width: 0;overflow: hidden;text-align: left;background-color: #f0f8ff;}#sk-container-id-20 div.sk-toggleable__content pre {margin: 0.2em;color: black;border-radius: 0.25em;background-color: #f0f8ff;}#sk-container-id-20 input.sk-toggleable__control:checked~div.sk-toggleable__content {max-height: 200px;max-width: 100%;overflow: auto;}#sk-container-id-20 input.sk-toggleable__control:checked~label.sk-toggleable__label-arrow:before {content: \"▾\";}#sk-container-id-20 div.sk-estimator input.sk-toggleable__control:checked~label.sk-toggleable__label {background-color: #d4ebff;}#sk-container-id-20 div.sk-label input.sk-toggleable__control:checked~label.sk-toggleable__label {background-color: #d4ebff;}#sk-container-id-20 input.sk-hidden--visually {border: 0;clip: rect(1px 1px 1px 1px);clip: rect(1px, 1px, 1px, 1px);height: 1px;margin: -1px;overflow: hidden;padding: 0;position: absolute;width: 1px;}#sk-container-id-20 div.sk-estimator {font-family: monospace;background-color: #f0f8ff;border: 1px dotted black;border-radius: 0.25em;box-sizing: border-box;margin-bottom: 0.5em;}#sk-container-id-20 div.sk-estimator:hover {background-color: #d4ebff;}#sk-container-id-20 div.sk-parallel-item::after {content: \"\";width: 100%;border-bottom: 1px solid gray;flex-grow: 1;}#sk-container-id-20 div.sk-label:hover label.sk-toggleable__label {background-color: #d4ebff;}#sk-container-id-20 div.sk-serial::before {content: \"\";position: absolute;border-left: 1px solid gray;box-sizing: border-box;top: 0;bottom: 0;left: 50%;z-index: 0;}#sk-container-id-20 div.sk-serial {display: flex;flex-direction: column;align-items: center;background-color: white;padding-right: 0.2em;padding-left: 0.2em;position: relative;}#sk-container-id-20 div.sk-item {position: relative;z-index: 1;}#sk-container-id-20 div.sk-parallel {display: flex;align-items: stretch;justify-content: center;background-color: white;position: relative;}#sk-container-id-20 div.sk-item::before, #sk-container-id-20 div.sk-parallel-item::before {content: \"\";position: absolute;border-left: 1px solid gray;box-sizing: border-box;top: 0;bottom: 0;left: 50%;z-index: -1;}#sk-container-id-20 div.sk-parallel-item {display: flex;flex-direction: column;z-index: 1;position: relative;background-color: white;}#sk-container-id-20 div.sk-parallel-item:first-child::after {align-self: flex-end;width: 50%;}#sk-container-id-20 div.sk-parallel-item:last-child::after {align-self: flex-start;width: 50%;}#sk-container-id-20 div.sk-parallel-item:only-child::after {width: 0;}#sk-container-id-20 div.sk-dashed-wrapped {border: 1px dashed gray;margin: 0 0.4em 0.5em 0.4em;box-sizing: border-box;padding-bottom: 0.4em;background-color: white;}#sk-container-id-20 div.sk-label label {font-family: monospace;font-weight: bold;display: inline-block;line-height: 1.2em;}#sk-container-id-20 div.sk-label-container {text-align: center;}#sk-container-id-20 div.sk-container {/* jupyter's `normalize.less` sets `[hidden] { display: none; }` but bootstrap.min.css set `[hidden] { display: none !important; }` so we also need the `!important` here to be able to override the default hidden behavior on the sphinx rendered scikit-learn.org. See: https://github.com/scikit-learn/scikit-learn/issues/21755 */display: inline-block !important;position: relative;}#sk-container-id-20 div.sk-text-repr-fallback {display: none;}</style><div id=\"sk-container-id-20\" class=\"sk-top-container\"><div class=\"sk-text-repr-fallback\"><pre>RandomizedSearchCV(cv=3, estimator=RandomForestClassifier(), n_iter=5,\n",
       "                   n_jobs=-1,\n",
       "                   param_distributions={&#x27;bootstrap&#x27;: [True, False],\n",
       "                                        &#x27;max_depth&#x27;: [10, 20, 30, 40, 50, 60,\n",
       "                                                      70, 80, 90, 100, 110,\n",
       "                                                      None],\n",
       "                                        &#x27;max_features&#x27;: [&#x27;auto&#x27;, &#x27;sqrt&#x27;],\n",
       "                                        &#x27;min_samples_leaf&#x27;: [1, 2, 4],\n",
       "                                        &#x27;min_samples_split&#x27;: [2, 5, 10],\n",
       "                                        &#x27;n_estimators&#x27;: [200, 400, 600, 800,\n",
       "                                                         1000, 1200, 1400, 1600,\n",
       "                                                         1800, 2000]},\n",
       "                   random_state=42, verbose=2)</pre><b>In a Jupyter environment, please rerun this cell to show the HTML representation or trust the notebook. <br />On GitHub, the HTML representation is unable to render, please try loading this page with nbviewer.org.</b></div><div class=\"sk-container\" hidden><div class=\"sk-item sk-dashed-wrapped\"><div class=\"sk-label-container\"><div class=\"sk-label sk-toggleable\"><input class=\"sk-toggleable__control sk-hidden--visually\" id=\"sk-estimator-id-54\" type=\"checkbox\" ><label for=\"sk-estimator-id-54\" class=\"sk-toggleable__label sk-toggleable__label-arrow\">RandomizedSearchCV</label><div class=\"sk-toggleable__content\"><pre>RandomizedSearchCV(cv=3, estimator=RandomForestClassifier(), n_iter=5,\n",
       "                   n_jobs=-1,\n",
       "                   param_distributions={&#x27;bootstrap&#x27;: [True, False],\n",
       "                                        &#x27;max_depth&#x27;: [10, 20, 30, 40, 50, 60,\n",
       "                                                      70, 80, 90, 100, 110,\n",
       "                                                      None],\n",
       "                                        &#x27;max_features&#x27;: [&#x27;auto&#x27;, &#x27;sqrt&#x27;],\n",
       "                                        &#x27;min_samples_leaf&#x27;: [1, 2, 4],\n",
       "                                        &#x27;min_samples_split&#x27;: [2, 5, 10],\n",
       "                                        &#x27;n_estimators&#x27;: [200, 400, 600, 800,\n",
       "                                                         1000, 1200, 1400, 1600,\n",
       "                                                         1800, 2000]},\n",
       "                   random_state=42, verbose=2)</pre></div></div></div><div class=\"sk-parallel\"><div class=\"sk-parallel-item\"><div class=\"sk-item\"><div class=\"sk-label-container\"><div class=\"sk-label sk-toggleable\"><input class=\"sk-toggleable__control sk-hidden--visually\" id=\"sk-estimator-id-55\" type=\"checkbox\" ><label for=\"sk-estimator-id-55\" class=\"sk-toggleable__label sk-toggleable__label-arrow\">estimator: RandomForestClassifier</label><div class=\"sk-toggleable__content\"><pre>RandomForestClassifier()</pre></div></div></div><div class=\"sk-serial\"><div class=\"sk-item\"><div class=\"sk-estimator sk-toggleable\"><input class=\"sk-toggleable__control sk-hidden--visually\" id=\"sk-estimator-id-56\" type=\"checkbox\" ><label for=\"sk-estimator-id-56\" class=\"sk-toggleable__label sk-toggleable__label-arrow\">RandomForestClassifier</label><div class=\"sk-toggleable__content\"><pre>RandomForestClassifier()</pre></div></div></div></div></div></div></div></div></div></div>"
      ],
      "text/plain": [
       "RandomizedSearchCV(cv=3, estimator=RandomForestClassifier(), n_iter=5,\n",
       "                   n_jobs=-1,\n",
       "                   param_distributions={'bootstrap': [True, False],\n",
       "                                        'max_depth': [10, 20, 30, 40, 50, 60,\n",
       "                                                      70, 80, 90, 100, 110,\n",
       "                                                      None],\n",
       "                                        'max_features': ['auto', 'sqrt'],\n",
       "                                        'min_samples_leaf': [1, 2, 4],\n",
       "                                        'min_samples_split': [2, 5, 10],\n",
       "                                        'n_estimators': [200, 400, 600, 800,\n",
       "                                                         1000, 1200, 1400, 1600,\n",
       "                                                         1800, 2000]},\n",
       "                   random_state=42, verbose=2)"
      ]
     },
     "execution_count": 727,
     "metadata": {},
     "output_type": "execute_result"
    }
   ],
   "source": [
    "\n",
    "# Create a random forest classifier\n",
    "rf = RandomForestClassifier()\n",
    "\n",
    "# Use random search to find the best hyperparameters\n",
    "rand_search = RandomizedSearchCV(estimator = rf, param_distributions = random_grid, \n",
    "                               n_iter = 5, cv = 3, verbose=2, random_state=42, n_jobs = -1)\n",
    "\n",
    "# Fit the random search object to the data\n",
    "rand_search.fit(X_train, y_train)"
   ]
  },
  {
   "cell_type": "code",
   "execution_count": 728,
   "id": "6865dc82",
   "metadata": {},
   "outputs": [
    {
     "name": "stdout",
     "output_type": "stream",
     "text": [
      "Best hyperparameters: {'n_estimators': 1400, 'min_samples_split': 5, 'min_samples_leaf': 1, 'max_features': 'sqrt', 'max_depth': 30, 'bootstrap': True}\n"
     ]
    }
   ],
   "source": [
    "# Create a variable for the best model\n",
    "best_rf = rand_search.best_estimator_\n",
    "\n",
    "# Print the best hyperparameters\n",
    "print('Best hyperparameters:',  rand_search.best_params_)"
   ]
  },
  {
   "cell_type": "code",
   "execution_count": 717,
   "id": "a0b5daa5",
   "metadata": {},
   "outputs": [
    {
     "ename": "AttributeError",
     "evalue": "'numpy.ndarray' object has no attribute 'iloc'",
     "output_type": "error",
     "traceback": [
      "\u001b[1;31m---------------------------------------------------------------------------\u001b[0m",
      "\u001b[1;31mAttributeError\u001b[0m                            Traceback (most recent call last)",
      "Cell \u001b[1;32mIn[717], line 1\u001b[0m\n\u001b[1;32m----> 1\u001b[0m X_test\u001b[38;5;241m.\u001b[39miloc[:\u001b[38;5;241m10\u001b[39m]\n",
      "\u001b[1;31mAttributeError\u001b[0m: 'numpy.ndarray' object has no attribute 'iloc'"
     ]
    }
   ],
   "source": [
    "X_test.iloc[:10]"
   ]
  },
  {
   "cell_type": "code",
   "execution_count": 729,
   "id": "393f35bf",
   "metadata": {},
   "outputs": [],
   "source": [
    "# Generate predictions with the best model\n",
    "y_pred = best_rf.predict(X_test)\n",
    "\n",
    "# Create the confusion matrix\n",
    "#cm = confusion_matrix(y_test, y_pred)\n",
    "\n",
    "#ConfusionMatrixDisplay(confusion_matrix=cm).plot();"
   ]
  },
  {
   "cell_type": "code",
   "execution_count": 730,
   "id": "8918e584",
   "metadata": {},
   "outputs": [
    {
     "data": {
      "text/plain": [
       "array([1])"
      ]
     },
     "execution_count": 730,
     "metadata": {},
     "output_type": "execute_result"
    }
   ],
   "source": [
    "y_pred"
   ]
  },
  {
   "cell_type": "code",
   "execution_count": 713,
   "id": "df0619b5",
   "metadata": {},
   "outputs": [],
   "source": [
    "# evaluate a model\n",
    "def evaluate_model(X, y, model):\n",
    "    # define evaluation procedure\n",
    "    cv = RepeatedStratifiedKFold(n_splits=5, n_repeats=3, random_state=1)\n",
    "    # evaluate model\n",
    "    scores = cross_val_score(model, X, y, scoring='accuracy', cv=cv, n_jobs=-1)\n",
    "    print(scores)\n",
    "    return scores\n",
    " "
   ]
  },
  {
   "cell_type": "code",
   "execution_count": 731,
   "id": "236a4656",
   "metadata": {},
   "outputs": [
    {
     "name": "stdout",
     "output_type": "stream",
     "text": [
      "[0.74285714 0.79047619 0.67307692 0.76923077 0.70192308 0.67619048\n",
      " 0.73333333 0.77884615 0.75961538 0.74038462 0.84761905 0.77142857\n",
      " 0.71153846 0.75961538 0.77884615]\n",
      "Train Mean Accuracy: 0.749 (0.044)\n"
     ]
    }
   ],
   "source": [
    "scores = evaluate_model(X_train, y_train, best_rf)\n",
    "# summarize performance\n",
    "print('Train Mean Accuracy: %.3f (%.3f)' % (mean(scores), std(scores)))"
   ]
  },
  {
   "cell_type": "code",
   "execution_count": 732,
   "id": "7750831b",
   "metadata": {},
   "outputs": [
    {
     "name": "stdout",
     "output_type": "stream",
     "text": [
      "Test Accuracy: 1.0\n"
     ]
    }
   ],
   "source": [
    "\n",
    "accuracy = accuracy_score(y_test, y_pred)\n",
    "print(\"Test Accuracy:\", accuracy)\n"
   ]
  },
  {
   "cell_type": "code",
   "execution_count": 573,
   "id": "8ac5adae",
   "metadata": {},
   "outputs": [
    {
     "data": {
      "text/plain": [
       "array([0.10901246, 0.06120613, 0.05139496, 0.11243407, 0.07018842,\n",
       "       0.06136108, 0.04160566, 0.0742769 , 0.07332854, 0.03111211,\n",
       "       0.05897358, 0.03312694, 0.03120372, 0.02846912, 0.03284539,\n",
       "       0.04873892, 0.03317437, 0.04754764])"
      ]
     },
     "execution_count": 573,
     "metadata": {},
     "output_type": "execute_result"
    }
   ],
   "source": [
    "# Create a series containing feature importances from the model and feature names from the training data\n",
    "best_rf.feature_importances_"
   ]
  },
  {
   "cell_type": "code",
   "execution_count": 211,
   "id": "f34bf3e3",
   "metadata": {},
   "outputs": [],
   "source": [
    "## Base Model\n",
    "model = RandomForestClassifier(n_estimators=100,\n",
    "                      criterion=\"entropy\", random_state=0)"
   ]
  },
  {
   "cell_type": "code",
   "execution_count": 207,
   "id": "0ec231be",
   "metadata": {},
   "outputs": [
    {
     "name": "stdout",
     "output_type": "stream",
     "text": [
      "[0.85207101 0.79881657 0.82248521 0.85714286 0.79166667 0.85207101\n",
      " 0.83431953 0.78698225 0.79166667 0.85119048 0.81065089 0.79881657\n",
      " 0.81065089 0.82142857 0.8452381 ]\n",
      "Mean Accuracy: 0.822 (0.024)\n"
     ]
    }
   ],
   "source": [
    "scores = evaluate_model(X_train, y_train, model)\n",
    "# summarize performance\n",
    "print('Mean Accuracy: %.3f (%.3f)' % (mean(scores), std(scores)))"
   ]
  },
  {
   "cell_type": "code",
   "execution_count": 212,
   "id": "c8075d7a",
   "metadata": {},
   "outputs": [
    {
     "data": {
      "text/html": [
       "<style>#sk-container-id-5 {color: black;background-color: white;}#sk-container-id-5 pre{padding: 0;}#sk-container-id-5 div.sk-toggleable {background-color: white;}#sk-container-id-5 label.sk-toggleable__label {cursor: pointer;display: block;width: 100%;margin-bottom: 0;padding: 0.3em;box-sizing: border-box;text-align: center;}#sk-container-id-5 label.sk-toggleable__label-arrow:before {content: \"▸\";float: left;margin-right: 0.25em;color: #696969;}#sk-container-id-5 label.sk-toggleable__label-arrow:hover:before {color: black;}#sk-container-id-5 div.sk-estimator:hover label.sk-toggleable__label-arrow:before {color: black;}#sk-container-id-5 div.sk-toggleable__content {max-height: 0;max-width: 0;overflow: hidden;text-align: left;background-color: #f0f8ff;}#sk-container-id-5 div.sk-toggleable__content pre {margin: 0.2em;color: black;border-radius: 0.25em;background-color: #f0f8ff;}#sk-container-id-5 input.sk-toggleable__control:checked~div.sk-toggleable__content {max-height: 200px;max-width: 100%;overflow: auto;}#sk-container-id-5 input.sk-toggleable__control:checked~label.sk-toggleable__label-arrow:before {content: \"▾\";}#sk-container-id-5 div.sk-estimator input.sk-toggleable__control:checked~label.sk-toggleable__label {background-color: #d4ebff;}#sk-container-id-5 div.sk-label input.sk-toggleable__control:checked~label.sk-toggleable__label {background-color: #d4ebff;}#sk-container-id-5 input.sk-hidden--visually {border: 0;clip: rect(1px 1px 1px 1px);clip: rect(1px, 1px, 1px, 1px);height: 1px;margin: -1px;overflow: hidden;padding: 0;position: absolute;width: 1px;}#sk-container-id-5 div.sk-estimator {font-family: monospace;background-color: #f0f8ff;border: 1px dotted black;border-radius: 0.25em;box-sizing: border-box;margin-bottom: 0.5em;}#sk-container-id-5 div.sk-estimator:hover {background-color: #d4ebff;}#sk-container-id-5 div.sk-parallel-item::after {content: \"\";width: 100%;border-bottom: 1px solid gray;flex-grow: 1;}#sk-container-id-5 div.sk-label:hover label.sk-toggleable__label {background-color: #d4ebff;}#sk-container-id-5 div.sk-serial::before {content: \"\";position: absolute;border-left: 1px solid gray;box-sizing: border-box;top: 0;bottom: 0;left: 50%;z-index: 0;}#sk-container-id-5 div.sk-serial {display: flex;flex-direction: column;align-items: center;background-color: white;padding-right: 0.2em;padding-left: 0.2em;position: relative;}#sk-container-id-5 div.sk-item {position: relative;z-index: 1;}#sk-container-id-5 div.sk-parallel {display: flex;align-items: stretch;justify-content: center;background-color: white;position: relative;}#sk-container-id-5 div.sk-item::before, #sk-container-id-5 div.sk-parallel-item::before {content: \"\";position: absolute;border-left: 1px solid gray;box-sizing: border-box;top: 0;bottom: 0;left: 50%;z-index: -1;}#sk-container-id-5 div.sk-parallel-item {display: flex;flex-direction: column;z-index: 1;position: relative;background-color: white;}#sk-container-id-5 div.sk-parallel-item:first-child::after {align-self: flex-end;width: 50%;}#sk-container-id-5 div.sk-parallel-item:last-child::after {align-self: flex-start;width: 50%;}#sk-container-id-5 div.sk-parallel-item:only-child::after {width: 0;}#sk-container-id-5 div.sk-dashed-wrapped {border: 1px dashed gray;margin: 0 0.4em 0.5em 0.4em;box-sizing: border-box;padding-bottom: 0.4em;background-color: white;}#sk-container-id-5 div.sk-label label {font-family: monospace;font-weight: bold;display: inline-block;line-height: 1.2em;}#sk-container-id-5 div.sk-label-container {text-align: center;}#sk-container-id-5 div.sk-container {/* jupyter's `normalize.less` sets `[hidden] { display: none; }` but bootstrap.min.css set `[hidden] { display: none !important; }` so we also need the `!important` here to be able to override the default hidden behavior on the sphinx rendered scikit-learn.org. See: https://github.com/scikit-learn/scikit-learn/issues/21755 */display: inline-block !important;position: relative;}#sk-container-id-5 div.sk-text-repr-fallback {display: none;}</style><div id=\"sk-container-id-5\" class=\"sk-top-container\"><div class=\"sk-text-repr-fallback\"><pre>RandomForestClassifier(criterion=&#x27;entropy&#x27;, random_state=0)</pre><b>In a Jupyter environment, please rerun this cell to show the HTML representation or trust the notebook. <br />On GitHub, the HTML representation is unable to render, please try loading this page with nbviewer.org.</b></div><div class=\"sk-container\" hidden><div class=\"sk-item\"><div class=\"sk-estimator sk-toggleable\"><input class=\"sk-toggleable__control sk-hidden--visually\" id=\"sk-estimator-id-13\" type=\"checkbox\" checked><label for=\"sk-estimator-id-13\" class=\"sk-toggleable__label sk-toggleable__label-arrow\">RandomForestClassifier</label><div class=\"sk-toggleable__content\"><pre>RandomForestClassifier(criterion=&#x27;entropy&#x27;, random_state=0)</pre></div></div></div></div></div>"
      ],
      "text/plain": [
       "RandomForestClassifier(criterion='entropy', random_state=0)"
      ]
     },
     "execution_count": 212,
     "metadata": {},
     "output_type": "execute_result"
    }
   ],
   "source": [
    "model.fit(X_train,y_train)"
   ]
  },
  {
   "cell_type": "code",
   "execution_count": 574,
   "id": "2d50a6fe",
   "metadata": {},
   "outputs": [],
   "source": [
    "importances = best_rf.feature_importances_"
   ]
  },
  {
   "cell_type": "code",
   "execution_count": 579,
   "id": "3654be9e",
   "metadata": {},
   "outputs": [],
   "source": [
    "## Put in a pandas dtf\n",
    "dtf_importances = pd.DataFrame({\"IMPORTANCE\":importances, \n",
    "            \"VARIABLE\":feature_names}).sort_values(\"IMPORTANCE\", \n",
    "            ascending=False)\n",
    "dtf_importances['cumsum'] =  dtf_importances['IMPORTANCE'].cumsum(axis=0)\n",
    "dtf_importances = dtf_importances.set_index(\"VARIABLE\")"
   ]
  },
  {
   "cell_type": "code",
   "execution_count": 580,
   "id": "91bf0b91",
   "metadata": {},
   "outputs": [
    {
     "data": {
      "text/html": [
       "<div>\n",
       "<style scoped>\n",
       "    .dataframe tbody tr th:only-of-type {\n",
       "        vertical-align: middle;\n",
       "    }\n",
       "\n",
       "    .dataframe tbody tr th {\n",
       "        vertical-align: top;\n",
       "    }\n",
       "\n",
       "    .dataframe thead th {\n",
       "        text-align: right;\n",
       "    }\n",
       "</style>\n",
       "<table border=\"1\" class=\"dataframe\">\n",
       "  <thead>\n",
       "    <tr style=\"text-align: right;\">\n",
       "      <th></th>\n",
       "      <th>IMPORTANCE</th>\n",
       "    </tr>\n",
       "    <tr>\n",
       "      <th>VARIABLE</th>\n",
       "      <th></th>\n",
       "    </tr>\n",
       "  </thead>\n",
       "  <tbody>\n",
       "    <tr>\n",
       "      <th>CPI_s1</th>\n",
       "      <td>0.112434</td>\n",
       "    </tr>\n",
       "    <tr>\n",
       "      <th>PCE_s1</th>\n",
       "      <td>0.109012</td>\n",
       "    </tr>\n",
       "    <tr>\n",
       "      <th>SPX_s1</th>\n",
       "      <td>0.074277</td>\n",
       "    </tr>\n",
       "    <tr>\n",
       "      <th>10y_try_s1</th>\n",
       "      <td>0.073329</td>\n",
       "    </tr>\n",
       "    <tr>\n",
       "      <th>ISM PMI_s1</th>\n",
       "      <td>0.070188</td>\n",
       "    </tr>\n",
       "    <tr>\n",
       "      <th>Housing_starts_s1</th>\n",
       "      <td>0.061361</td>\n",
       "    </tr>\n",
       "    <tr>\n",
       "      <th>Consumer_Sentiment_s1</th>\n",
       "      <td>0.061206</td>\n",
       "    </tr>\n",
       "    <tr>\n",
       "      <th>Consumer_Sentiment_pctchg_s1</th>\n",
       "      <td>0.058974</td>\n",
       "    </tr>\n",
       "    <tr>\n",
       "      <th>Supply_NewHouse_s1</th>\n",
       "      <td>0.051395</td>\n",
       "    </tr>\n",
       "    <tr>\n",
       "      <th>Unemp_rate_pctchg_s1</th>\n",
       "      <td>0.048739</td>\n",
       "    </tr>\n",
       "    <tr>\n",
       "      <th>10y_try_pctchg_s1</th>\n",
       "      <td>0.047548</td>\n",
       "    </tr>\n",
       "    <tr>\n",
       "      <th>Unemp_rate_s1</th>\n",
       "      <td>0.041606</td>\n",
       "    </tr>\n",
       "    <tr>\n",
       "      <th>SPX_pctchg_s1</th>\n",
       "      <td>0.033174</td>\n",
       "    </tr>\n",
       "    <tr>\n",
       "      <th>Supply_NewHouse_pctchg_s1</th>\n",
       "      <td>0.033127</td>\n",
       "    </tr>\n",
       "    <tr>\n",
       "      <th>Housing_starts_pctchg_s1</th>\n",
       "      <td>0.032845</td>\n",
       "    </tr>\n",
       "    <tr>\n",
       "      <th>CPI_pctchg_s1</th>\n",
       "      <td>0.031204</td>\n",
       "    </tr>\n",
       "    <tr>\n",
       "      <th>PCE_pctchg_s1</th>\n",
       "      <td>0.031112</td>\n",
       "    </tr>\n",
       "    <tr>\n",
       "      <th>ISM PMI_pctchg_s1</th>\n",
       "      <td>0.028469</td>\n",
       "    </tr>\n",
       "  </tbody>\n",
       "</table>\n",
       "</div>"
      ],
      "text/plain": [
       "                              IMPORTANCE\n",
       "VARIABLE                                \n",
       "CPI_s1                          0.112434\n",
       "PCE_s1                          0.109012\n",
       "SPX_s1                          0.074277\n",
       "10y_try_s1                      0.073329\n",
       "ISM PMI_s1                      0.070188\n",
       "Housing_starts_s1               0.061361\n",
       "Consumer_Sentiment_s1           0.061206\n",
       "Consumer_Sentiment_pctchg_s1    0.058974\n",
       "Supply_NewHouse_s1              0.051395\n",
       "Unemp_rate_pctchg_s1            0.048739\n",
       "10y_try_pctchg_s1               0.047548\n",
       "Unemp_rate_s1                   0.041606\n",
       "SPX_pctchg_s1                   0.033174\n",
       "Supply_NewHouse_pctchg_s1       0.033127\n",
       "Housing_starts_pctchg_s1        0.032845\n",
       "CPI_pctchg_s1                   0.031204\n",
       "PCE_pctchg_s1                   0.031112\n",
       "ISM PMI_pctchg_s1               0.028469"
      ]
     },
     "execution_count": 580,
     "metadata": {},
     "output_type": "execute_result"
    }
   ],
   "source": [
    "dtf_importances[[\"IMPORTANCE\"]].sort_values(by=\"IMPORTANCE\",ascending=False).head(20)"
   ]
  },
  {
   "cell_type": "code",
   "execution_count": null,
   "id": "428c2e71",
   "metadata": {
    "scrolled": false
   },
   "outputs": [],
   "source": [
    "## Plot\n",
    "#fig, ax = plt.subplots(nrows=1, ncols=2, sharex=False, sharey=False)\n",
    "fig= plt.figure(figsize=(18, 16))\n",
    "#fig.suptitle(\"Features Importance\", fontsize=10)\n",
    "ax[0].title.set_text('variables')\n",
    "dtf_importances[[\"IMPORTANCE\"]].sort_values(by=\"IMPORTANCE\").plot(\n",
    "                kind=\"barh\", legend=False).grid(axis=\"x\")\n",
    "ax[0].set(ylabel=\"\")\n",
    "#ax[1].title.set_text('cumulative')\n",
    "#dtf_importances[[\"cumsum\"]].plot(kind=\"line\", linewidth=4, \n",
    "#                                 legend=False, ax=ax[1])\n",
    "#ax[1].set(xlabel=\"\", xticks=np.arange(len(dtf_importances)), \n",
    "#          xticklabels=dtf_importances.index)\n",
    "plt.xticks(rotation=70)\n",
    "plt.grid(axis='both')\n",
    "plt.show()"
   ]
  },
  {
   "cell_type": "code",
   "execution_count": 484,
   "id": "f0e04917",
   "metadata": {},
   "outputs": [
    {
     "ename": "AttributeError",
     "evalue": "'Booster' object has no attribute 'predict_proba'",
     "output_type": "error",
     "traceback": [
      "\u001b[1;31m---------------------------------------------------------------------------\u001b[0m",
      "\u001b[1;31mAttributeError\u001b[0m                            Traceback (most recent call last)",
      "Cell \u001b[1;32mIn[484], line 1\u001b[0m\n\u001b[1;32m----> 1\u001b[0m predicted_prob \u001b[38;5;241m=\u001b[39m model\u001b[38;5;241m.\u001b[39mpredict_proba(X_test)[:,\u001b[38;5;241m1\u001b[39m]\n\u001b[0;32m      2\u001b[0m predicted \u001b[38;5;241m=\u001b[39m model\u001b[38;5;241m.\u001b[39mpredict(X_test)\n",
      "\u001b[1;31mAttributeError\u001b[0m: 'Booster' object has no attribute 'predict_proba'"
     ]
    }
   ],
   "source": [
    "predicted_prob = model.predict_proba(X_test)[:,1]\n",
    "predicted = model.predict(X_test)"
   ]
  },
  {
   "cell_type": "code",
   "execution_count": 485,
   "id": "4218f81e",
   "metadata": {},
   "outputs": [
    {
     "ename": "ValueError",
     "evalue": "Found input variables with inconsistent numbers of samples: [348, 288]",
     "output_type": "error",
     "traceback": [
      "\u001b[1;31m---------------------------------------------------------------------------\u001b[0m",
      "\u001b[1;31mValueError\u001b[0m                                Traceback (most recent call last)",
      "Cell \u001b[1;32mIn[485], line 2\u001b[0m\n\u001b[0;32m      1\u001b[0m \u001b[38;5;66;03m## Accuray e AUC\u001b[39;00m\n\u001b[1;32m----> 2\u001b[0m accuracy \u001b[38;5;241m=\u001b[39m accuracy_score(y_test, predicted)\n\u001b[0;32m      3\u001b[0m \u001b[38;5;66;03m#auc = roc_auc_score(y_test, predicted_prob, multi_class='ovr')\u001b[39;00m\n\u001b[0;32m      4\u001b[0m \u001b[38;5;28mprint\u001b[39m(\u001b[38;5;124m\"\u001b[39m\u001b[38;5;124mAccuracy (overall correct predictions):\u001b[39m\u001b[38;5;124m\"\u001b[39m,  \u001b[38;5;28mround\u001b[39m(accuracy,\u001b[38;5;241m2\u001b[39m))\n",
      "File \u001b[1;32m~\\anaconda3\\Lib\\site-packages\\sklearn\\utils\\_param_validation.py:192\u001b[0m, in \u001b[0;36mvalidate_params.<locals>.decorator.<locals>.wrapper\u001b[1;34m(*args, **kwargs)\u001b[0m\n\u001b[0;32m    187\u001b[0m validate_parameter_constraints(\n\u001b[0;32m    188\u001b[0m     parameter_constraints, params, caller_name\u001b[38;5;241m=\u001b[39mfunc\u001b[38;5;241m.\u001b[39m\u001b[38;5;18m__qualname__\u001b[39m\n\u001b[0;32m    189\u001b[0m )\n\u001b[0;32m    191\u001b[0m \u001b[38;5;28;01mtry\u001b[39;00m:\n\u001b[1;32m--> 192\u001b[0m     \u001b[38;5;28;01mreturn\u001b[39;00m func(\u001b[38;5;241m*\u001b[39margs, \u001b[38;5;241m*\u001b[39m\u001b[38;5;241m*\u001b[39mkwargs)\n\u001b[0;32m    193\u001b[0m \u001b[38;5;28;01mexcept\u001b[39;00m InvalidParameterError \u001b[38;5;28;01mas\u001b[39;00m e:\n\u001b[0;32m    194\u001b[0m     \u001b[38;5;66;03m# When the function is just a wrapper around an estimator, we allow\u001b[39;00m\n\u001b[0;32m    195\u001b[0m     \u001b[38;5;66;03m# the function to delegate validation to the estimator, but we replace\u001b[39;00m\n\u001b[0;32m    196\u001b[0m     \u001b[38;5;66;03m# the name of the estimator by the name of the function in the error\u001b[39;00m\n\u001b[0;32m    197\u001b[0m     \u001b[38;5;66;03m# message to avoid confusion.\u001b[39;00m\n\u001b[0;32m    198\u001b[0m     msg \u001b[38;5;241m=\u001b[39m re\u001b[38;5;241m.\u001b[39msub(\n\u001b[0;32m    199\u001b[0m         \u001b[38;5;124mr\u001b[39m\u001b[38;5;124m\"\u001b[39m\u001b[38;5;124mparameter of \u001b[39m\u001b[38;5;124m\\\u001b[39m\u001b[38;5;124mw+ must be\u001b[39m\u001b[38;5;124m\"\u001b[39m,\n\u001b[0;32m    200\u001b[0m         \u001b[38;5;124mf\u001b[39m\u001b[38;5;124m\"\u001b[39m\u001b[38;5;124mparameter of \u001b[39m\u001b[38;5;132;01m{\u001b[39;00mfunc\u001b[38;5;241m.\u001b[39m\u001b[38;5;18m__qualname__\u001b[39m\u001b[38;5;132;01m}\u001b[39;00m\u001b[38;5;124m must be\u001b[39m\u001b[38;5;124m\"\u001b[39m,\n\u001b[0;32m    201\u001b[0m         \u001b[38;5;28mstr\u001b[39m(e),\n\u001b[0;32m    202\u001b[0m     )\n",
      "File \u001b[1;32m~\\anaconda3\\Lib\\site-packages\\sklearn\\metrics\\_classification.py:221\u001b[0m, in \u001b[0;36maccuracy_score\u001b[1;34m(y_true, y_pred, normalize, sample_weight)\u001b[0m\n\u001b[0;32m    155\u001b[0m \u001b[38;5;250m\u001b[39m\u001b[38;5;124;03m\"\"\"Accuracy classification score.\u001b[39;00m\n\u001b[0;32m    156\u001b[0m \n\u001b[0;32m    157\u001b[0m \u001b[38;5;124;03mIn multilabel classification, this function computes subset accuracy:\u001b[39;00m\n\u001b[1;32m   (...)\u001b[0m\n\u001b[0;32m    217\u001b[0m \u001b[38;5;124;03m0.5\u001b[39;00m\n\u001b[0;32m    218\u001b[0m \u001b[38;5;124;03m\"\"\"\u001b[39;00m\n\u001b[0;32m    220\u001b[0m \u001b[38;5;66;03m# Compute accuracy for each possible representation\u001b[39;00m\n\u001b[1;32m--> 221\u001b[0m y_type, y_true, y_pred \u001b[38;5;241m=\u001b[39m _check_targets(y_true, y_pred)\n\u001b[0;32m    222\u001b[0m check_consistent_length(y_true, y_pred, sample_weight)\n\u001b[0;32m    223\u001b[0m \u001b[38;5;28;01mif\u001b[39;00m y_type\u001b[38;5;241m.\u001b[39mstartswith(\u001b[38;5;124m\"\u001b[39m\u001b[38;5;124mmultilabel\u001b[39m\u001b[38;5;124m\"\u001b[39m):\n",
      "File \u001b[1;32m~\\anaconda3\\Lib\\site-packages\\sklearn\\metrics\\_classification.py:86\u001b[0m, in \u001b[0;36m_check_targets\u001b[1;34m(y_true, y_pred)\u001b[0m\n\u001b[0;32m     59\u001b[0m \u001b[38;5;28;01mdef\u001b[39;00m \u001b[38;5;21m_check_targets\u001b[39m(y_true, y_pred):\n\u001b[0;32m     60\u001b[0m \u001b[38;5;250m    \u001b[39m\u001b[38;5;124;03m\"\"\"Check that y_true and y_pred belong to the same classification task.\u001b[39;00m\n\u001b[0;32m     61\u001b[0m \n\u001b[0;32m     62\u001b[0m \u001b[38;5;124;03m    This converts multiclass or binary types to a common shape, and raises a\u001b[39;00m\n\u001b[1;32m   (...)\u001b[0m\n\u001b[0;32m     84\u001b[0m \u001b[38;5;124;03m    y_pred : array or indicator matrix\u001b[39;00m\n\u001b[0;32m     85\u001b[0m \u001b[38;5;124;03m    \"\"\"\u001b[39;00m\n\u001b[1;32m---> 86\u001b[0m     check_consistent_length(y_true, y_pred)\n\u001b[0;32m     87\u001b[0m     type_true \u001b[38;5;241m=\u001b[39m type_of_target(y_true, input_name\u001b[38;5;241m=\u001b[39m\u001b[38;5;124m\"\u001b[39m\u001b[38;5;124my_true\u001b[39m\u001b[38;5;124m\"\u001b[39m)\n\u001b[0;32m     88\u001b[0m     type_pred \u001b[38;5;241m=\u001b[39m type_of_target(y_pred, input_name\u001b[38;5;241m=\u001b[39m\u001b[38;5;124m\"\u001b[39m\u001b[38;5;124my_pred\u001b[39m\u001b[38;5;124m\"\u001b[39m)\n",
      "File \u001b[1;32m~\\anaconda3\\Lib\\site-packages\\sklearn\\utils\\validation.py:397\u001b[0m, in \u001b[0;36mcheck_consistent_length\u001b[1;34m(*arrays)\u001b[0m\n\u001b[0;32m    395\u001b[0m uniques \u001b[38;5;241m=\u001b[39m np\u001b[38;5;241m.\u001b[39munique(lengths)\n\u001b[0;32m    396\u001b[0m \u001b[38;5;28;01mif\u001b[39;00m \u001b[38;5;28mlen\u001b[39m(uniques) \u001b[38;5;241m>\u001b[39m \u001b[38;5;241m1\u001b[39m:\n\u001b[1;32m--> 397\u001b[0m     \u001b[38;5;28;01mraise\u001b[39;00m \u001b[38;5;167;01mValueError\u001b[39;00m(\n\u001b[0;32m    398\u001b[0m         \u001b[38;5;124m\"\u001b[39m\u001b[38;5;124mFound input variables with inconsistent numbers of samples: \u001b[39m\u001b[38;5;132;01m%r\u001b[39;00m\u001b[38;5;124m\"\u001b[39m\n\u001b[0;32m    399\u001b[0m         \u001b[38;5;241m%\u001b[39m [\u001b[38;5;28mint\u001b[39m(l) \u001b[38;5;28;01mfor\u001b[39;00m l \u001b[38;5;129;01min\u001b[39;00m lengths]\n\u001b[0;32m    400\u001b[0m     )\n",
      "\u001b[1;31mValueError\u001b[0m: Found input variables with inconsistent numbers of samples: [348, 288]"
     ]
    }
   ],
   "source": [
    "## Accuray e AUC\n",
    "accuracy = accuracy_score(y_test, predicted)\n",
    "#auc = roc_auc_score(y_test, predicted_prob, multi_class='ovr')\n",
    "print(\"Accuracy (overall correct predictions):\",  round(accuracy,2))\n",
    "#print(\"Auc:\", round(auc,2))\n",
    "    "
   ]
  },
  {
   "cell_type": "code",
   "execution_count": 73,
   "id": "8e000389",
   "metadata": {},
   "outputs": [],
   "source": [
    "# training a DescisionTreeClassifier \n",
    "from sklearn.tree import DecisionTreeClassifier \n",
    "dtree_model = DecisionTreeClassifier(max_depth = 2).fit(X_train, y_train) \n",
    "dtree_predictions = dtree_model.predict(X_test) \n",
    "  \n",
    "# creating a confusion matrix \n",
    "cm = confusion_matrix(y_test, dtree_predictions) "
   ]
  },
  {
   "cell_type": "code",
   "execution_count": 74,
   "id": "4525d787",
   "metadata": {},
   "outputs": [
    {
     "data": {
      "text/plain": [
       "array([[52, 19, 45],\n",
       "       [28, 71, 17],\n",
       "       [26, 30, 60]], dtype=int64)"
      ]
     },
     "execution_count": 74,
     "metadata": {},
     "output_type": "execute_result"
    }
   ],
   "source": [
    "cm"
   ]
  },
  {
   "cell_type": "code",
   "execution_count": 75,
   "id": "1b65e043",
   "metadata": {},
   "outputs": [
    {
     "data": {
      "text/plain": [
       "0.5258620689655172"
      ]
     },
     "execution_count": 75,
     "metadata": {},
     "output_type": "execute_result"
    }
   ],
   "source": [
    "dtree_model.score(X_test, y_test)"
   ]
  },
  {
   "cell_type": "code",
   "execution_count": null,
   "id": "70420ff5",
   "metadata": {},
   "outputs": [],
   "source": []
  },
  {
   "cell_type": "markdown",
   "id": "480009c0",
   "metadata": {},
   "source": [
    "# XG Boost"
   ]
  },
  {
   "cell_type": "code",
   "execution_count": 470,
   "id": "e4e6c792",
   "metadata": {},
   "outputs": [],
   "source": [
    "from xgboost import  XGBClassifier"
   ]
  },
  {
   "cell_type": "code",
   "execution_count": 457,
   "id": "f66e182d",
   "metadata": {},
   "outputs": [],
   "source": [
    "dtrain = xgb.DMatrix(X_train, label=y_train)\n",
    "dtest = xgb.DMatrix(X_test, label=y_test)"
   ]
  },
  {
   "cell_type": "code",
   "execution_count": 471,
   "id": "10553758",
   "metadata": {},
   "outputs": [],
   "source": [
    "param_test1 = {\n",
    " 'max_depth':range(3,10,2),\n",
    " 'min_child_weight':range(1,6,2),\n",
    "  'max_depth':[4,5,6],\n",
    " 'min_child_weight':[4,5,6],\n",
    "  'min_child_weight':[6,8,10,12],\n",
    "  'gamma':[i/10.0 for i in range(0,5)],\n",
    "    'subsample':[i/10.0 for i in range(6,10)],\n",
    " 'colsample_bytree':[i/10.0 for i in range(6,10)]\n",
    "}"
   ]
  },
  {
   "cell_type": "code",
   "execution_count": 474,
   "id": "8c63eee0",
   "metadata": {},
   "outputs": [
    {
     "ename": "KeyboardInterrupt",
     "evalue": "",
     "output_type": "error",
     "traceback": [
      "\u001b[1;31m---------------------------------------------------------------------------\u001b[0m",
      "\u001b[1;31mKeyboardInterrupt\u001b[0m                         Traceback (most recent call last)",
      "Cell \u001b[1;32mIn[474], line 6\u001b[0m\n\u001b[0;32m      1\u001b[0m \u001b[38;5;28;01mfrom\u001b[39;00m \u001b[38;5;21;01msklearn\u001b[39;00m\u001b[38;5;21;01m.\u001b[39;00m\u001b[38;5;21;01mmodel_selection\u001b[39;00m \u001b[38;5;28;01mimport\u001b[39;00m GridSearchCV\n\u001b[0;32m      2\u001b[0m gsearch1 \u001b[38;5;241m=\u001b[39m GridSearchCV(estimator \u001b[38;5;241m=\u001b[39m XGBClassifier( learning_rate \u001b[38;5;241m=\u001b[39m\u001b[38;5;241m0.1\u001b[39m, n_estimators\u001b[38;5;241m=\u001b[39m\u001b[38;5;241m140\u001b[39m, \n\u001b[0;32m      3\u001b[0m  objective\u001b[38;5;241m=\u001b[39m \u001b[38;5;124m'\u001b[39m\u001b[38;5;124mbinary:logistic\u001b[39m\u001b[38;5;124m'\u001b[39m, nthread\u001b[38;5;241m=\u001b[39m\u001b[38;5;241m4\u001b[39m, scale_pos_weight\u001b[38;5;241m=\u001b[39m\u001b[38;5;241m1\u001b[39m, seed\u001b[38;5;241m=\u001b[39m\u001b[38;5;241m27\u001b[39m), \n\u001b[0;32m      4\u001b[0m  param_grid \u001b[38;5;241m=\u001b[39m param_test1, scoring\u001b[38;5;241m=\u001b[39m\u001b[38;5;124m'\u001b[39m\u001b[38;5;124mroc_auc\u001b[39m\u001b[38;5;124m'\u001b[39m,n_jobs\u001b[38;5;241m=\u001b[39m\u001b[38;5;241m4\u001b[39m, cv\u001b[38;5;241m=\u001b[39m\u001b[38;5;241m5\u001b[39m)\n\u001b[1;32m----> 6\u001b[0m gsearch1\u001b[38;5;241m.\u001b[39mfit(X_train, y_train)\n\u001b[0;32m      7\u001b[0m gsearch1\u001b[38;5;241m.\u001b[39mgrid_scores_, gsearch1\u001b[38;5;241m.\u001b[39mbest_params_, gsearch1\u001b[38;5;241m.\u001b[39mbest_score_\n",
      "File \u001b[1;32m~\\anaconda3\\Lib\\site-packages\\sklearn\\model_selection\\_search.py:874\u001b[0m, in \u001b[0;36mBaseSearchCV.fit\u001b[1;34m(self, X, y, groups, **fit_params)\u001b[0m\n\u001b[0;32m    868\u001b[0m     results \u001b[38;5;241m=\u001b[39m \u001b[38;5;28mself\u001b[39m\u001b[38;5;241m.\u001b[39m_format_results(\n\u001b[0;32m    869\u001b[0m         all_candidate_params, n_splits, all_out, all_more_results\n\u001b[0;32m    870\u001b[0m     )\n\u001b[0;32m    872\u001b[0m     \u001b[38;5;28;01mreturn\u001b[39;00m results\n\u001b[1;32m--> 874\u001b[0m \u001b[38;5;28mself\u001b[39m\u001b[38;5;241m.\u001b[39m_run_search(evaluate_candidates)\n\u001b[0;32m    876\u001b[0m \u001b[38;5;66;03m# multimetric is determined here because in the case of a callable\u001b[39;00m\n\u001b[0;32m    877\u001b[0m \u001b[38;5;66;03m# self.scoring the return type is only known after calling\u001b[39;00m\n\u001b[0;32m    878\u001b[0m first_test_score \u001b[38;5;241m=\u001b[39m all_out[\u001b[38;5;241m0\u001b[39m][\u001b[38;5;124m\"\u001b[39m\u001b[38;5;124mtest_scores\u001b[39m\u001b[38;5;124m\"\u001b[39m]\n",
      "File \u001b[1;32m~\\anaconda3\\Lib\\site-packages\\sklearn\\model_selection\\_search.py:1388\u001b[0m, in \u001b[0;36mGridSearchCV._run_search\u001b[1;34m(self, evaluate_candidates)\u001b[0m\n\u001b[0;32m   1386\u001b[0m \u001b[38;5;28;01mdef\u001b[39;00m \u001b[38;5;21m_run_search\u001b[39m(\u001b[38;5;28mself\u001b[39m, evaluate_candidates):\n\u001b[0;32m   1387\u001b[0m \u001b[38;5;250m    \u001b[39m\u001b[38;5;124;03m\"\"\"Search all candidates in param_grid\"\"\"\u001b[39;00m\n\u001b[1;32m-> 1388\u001b[0m     evaluate_candidates(ParameterGrid(\u001b[38;5;28mself\u001b[39m\u001b[38;5;241m.\u001b[39mparam_grid))\n",
      "File \u001b[1;32m~\\anaconda3\\Lib\\site-packages\\sklearn\\model_selection\\_search.py:821\u001b[0m, in \u001b[0;36mBaseSearchCV.fit.<locals>.evaluate_candidates\u001b[1;34m(candidate_params, cv, more_results)\u001b[0m\n\u001b[0;32m    813\u001b[0m \u001b[38;5;28;01mif\u001b[39;00m \u001b[38;5;28mself\u001b[39m\u001b[38;5;241m.\u001b[39mverbose \u001b[38;5;241m>\u001b[39m \u001b[38;5;241m0\u001b[39m:\n\u001b[0;32m    814\u001b[0m     \u001b[38;5;28mprint\u001b[39m(\n\u001b[0;32m    815\u001b[0m         \u001b[38;5;124m\"\u001b[39m\u001b[38;5;124mFitting \u001b[39m\u001b[38;5;132;01m{0}\u001b[39;00m\u001b[38;5;124m folds for each of \u001b[39m\u001b[38;5;132;01m{1}\u001b[39;00m\u001b[38;5;124m candidates,\u001b[39m\u001b[38;5;124m\"\u001b[39m\n\u001b[0;32m    816\u001b[0m         \u001b[38;5;124m\"\u001b[39m\u001b[38;5;124m totalling \u001b[39m\u001b[38;5;132;01m{2}\u001b[39;00m\u001b[38;5;124m fits\u001b[39m\u001b[38;5;124m\"\u001b[39m\u001b[38;5;241m.\u001b[39mformat(\n\u001b[0;32m    817\u001b[0m             n_splits, n_candidates, n_candidates \u001b[38;5;241m*\u001b[39m n_splits\n\u001b[0;32m    818\u001b[0m         )\n\u001b[0;32m    819\u001b[0m     )\n\u001b[1;32m--> 821\u001b[0m out \u001b[38;5;241m=\u001b[39m parallel(\n\u001b[0;32m    822\u001b[0m     delayed(_fit_and_score)(\n\u001b[0;32m    823\u001b[0m         clone(base_estimator),\n\u001b[0;32m    824\u001b[0m         X,\n\u001b[0;32m    825\u001b[0m         y,\n\u001b[0;32m    826\u001b[0m         train\u001b[38;5;241m=\u001b[39mtrain,\n\u001b[0;32m    827\u001b[0m         test\u001b[38;5;241m=\u001b[39mtest,\n\u001b[0;32m    828\u001b[0m         parameters\u001b[38;5;241m=\u001b[39mparameters,\n\u001b[0;32m    829\u001b[0m         split_progress\u001b[38;5;241m=\u001b[39m(split_idx, n_splits),\n\u001b[0;32m    830\u001b[0m         candidate_progress\u001b[38;5;241m=\u001b[39m(cand_idx, n_candidates),\n\u001b[0;32m    831\u001b[0m         \u001b[38;5;241m*\u001b[39m\u001b[38;5;241m*\u001b[39mfit_and_score_kwargs,\n\u001b[0;32m    832\u001b[0m     )\n\u001b[0;32m    833\u001b[0m     \u001b[38;5;28;01mfor\u001b[39;00m (cand_idx, parameters), (split_idx, (train, test)) \u001b[38;5;129;01min\u001b[39;00m product(\n\u001b[0;32m    834\u001b[0m         \u001b[38;5;28menumerate\u001b[39m(candidate_params), \u001b[38;5;28menumerate\u001b[39m(cv\u001b[38;5;241m.\u001b[39msplit(X, y, groups))\n\u001b[0;32m    835\u001b[0m     )\n\u001b[0;32m    836\u001b[0m )\n\u001b[0;32m    838\u001b[0m \u001b[38;5;28;01mif\u001b[39;00m \u001b[38;5;28mlen\u001b[39m(out) \u001b[38;5;241m<\u001b[39m \u001b[38;5;241m1\u001b[39m:\n\u001b[0;32m    839\u001b[0m     \u001b[38;5;28;01mraise\u001b[39;00m \u001b[38;5;167;01mValueError\u001b[39;00m(\n\u001b[0;32m    840\u001b[0m         \u001b[38;5;124m\"\u001b[39m\u001b[38;5;124mNo fits were performed. \u001b[39m\u001b[38;5;124m\"\u001b[39m\n\u001b[0;32m    841\u001b[0m         \u001b[38;5;124m\"\u001b[39m\u001b[38;5;124mWas the CV iterator empty? \u001b[39m\u001b[38;5;124m\"\u001b[39m\n\u001b[0;32m    842\u001b[0m         \u001b[38;5;124m\"\u001b[39m\u001b[38;5;124mWere there no candidates?\u001b[39m\u001b[38;5;124m\"\u001b[39m\n\u001b[0;32m    843\u001b[0m     )\n",
      "File \u001b[1;32m~\\anaconda3\\Lib\\site-packages\\sklearn\\utils\\parallel.py:63\u001b[0m, in \u001b[0;36mParallel.__call__\u001b[1;34m(self, iterable)\u001b[0m\n\u001b[0;32m     58\u001b[0m config \u001b[38;5;241m=\u001b[39m get_config()\n\u001b[0;32m     59\u001b[0m iterable_with_config \u001b[38;5;241m=\u001b[39m (\n\u001b[0;32m     60\u001b[0m     (_with_config(delayed_func, config), args, kwargs)\n\u001b[0;32m     61\u001b[0m     \u001b[38;5;28;01mfor\u001b[39;00m delayed_func, args, kwargs \u001b[38;5;129;01min\u001b[39;00m iterable\n\u001b[0;32m     62\u001b[0m )\n\u001b[1;32m---> 63\u001b[0m \u001b[38;5;28;01mreturn\u001b[39;00m \u001b[38;5;28msuper\u001b[39m()\u001b[38;5;241m.\u001b[39m\u001b[38;5;21m__call__\u001b[39m(iterable_with_config)\n",
      "File \u001b[1;32m~\\anaconda3\\Lib\\site-packages\\joblib\\parallel.py:1098\u001b[0m, in \u001b[0;36mParallel.__call__\u001b[1;34m(self, iterable)\u001b[0m\n\u001b[0;32m   1095\u001b[0m     \u001b[38;5;28mself\u001b[39m\u001b[38;5;241m.\u001b[39m_iterating \u001b[38;5;241m=\u001b[39m \u001b[38;5;28;01mFalse\u001b[39;00m\n\u001b[0;32m   1097\u001b[0m \u001b[38;5;28;01mwith\u001b[39;00m \u001b[38;5;28mself\u001b[39m\u001b[38;5;241m.\u001b[39m_backend\u001b[38;5;241m.\u001b[39mretrieval_context():\n\u001b[1;32m-> 1098\u001b[0m     \u001b[38;5;28mself\u001b[39m\u001b[38;5;241m.\u001b[39mretrieve()\n\u001b[0;32m   1099\u001b[0m \u001b[38;5;66;03m# Make sure that we get a last message telling us we are done\u001b[39;00m\n\u001b[0;32m   1100\u001b[0m elapsed_time \u001b[38;5;241m=\u001b[39m time\u001b[38;5;241m.\u001b[39mtime() \u001b[38;5;241m-\u001b[39m \u001b[38;5;28mself\u001b[39m\u001b[38;5;241m.\u001b[39m_start_time\n",
      "File \u001b[1;32m~\\anaconda3\\Lib\\site-packages\\joblib\\parallel.py:975\u001b[0m, in \u001b[0;36mParallel.retrieve\u001b[1;34m(self)\u001b[0m\n\u001b[0;32m    973\u001b[0m \u001b[38;5;28;01mtry\u001b[39;00m:\n\u001b[0;32m    974\u001b[0m     \u001b[38;5;28;01mif\u001b[39;00m \u001b[38;5;28mgetattr\u001b[39m(\u001b[38;5;28mself\u001b[39m\u001b[38;5;241m.\u001b[39m_backend, \u001b[38;5;124m'\u001b[39m\u001b[38;5;124msupports_timeout\u001b[39m\u001b[38;5;124m'\u001b[39m, \u001b[38;5;28;01mFalse\u001b[39;00m):\n\u001b[1;32m--> 975\u001b[0m         \u001b[38;5;28mself\u001b[39m\u001b[38;5;241m.\u001b[39m_output\u001b[38;5;241m.\u001b[39mextend(job\u001b[38;5;241m.\u001b[39mget(timeout\u001b[38;5;241m=\u001b[39m\u001b[38;5;28mself\u001b[39m\u001b[38;5;241m.\u001b[39mtimeout))\n\u001b[0;32m    976\u001b[0m     \u001b[38;5;28;01melse\u001b[39;00m:\n\u001b[0;32m    977\u001b[0m         \u001b[38;5;28mself\u001b[39m\u001b[38;5;241m.\u001b[39m_output\u001b[38;5;241m.\u001b[39mextend(job\u001b[38;5;241m.\u001b[39mget())\n",
      "File \u001b[1;32m~\\anaconda3\\Lib\\site-packages\\joblib\\_parallel_backends.py:567\u001b[0m, in \u001b[0;36mLokyBackend.wrap_future_result\u001b[1;34m(future, timeout)\u001b[0m\n\u001b[0;32m    564\u001b[0m \u001b[38;5;250m\u001b[39m\u001b[38;5;124;03m\"\"\"Wrapper for Future.result to implement the same behaviour as\u001b[39;00m\n\u001b[0;32m    565\u001b[0m \u001b[38;5;124;03mAsyncResults.get from multiprocessing.\"\"\"\u001b[39;00m\n\u001b[0;32m    566\u001b[0m \u001b[38;5;28;01mtry\u001b[39;00m:\n\u001b[1;32m--> 567\u001b[0m     \u001b[38;5;28;01mreturn\u001b[39;00m future\u001b[38;5;241m.\u001b[39mresult(timeout\u001b[38;5;241m=\u001b[39mtimeout)\n\u001b[0;32m    568\u001b[0m \u001b[38;5;28;01mexcept\u001b[39;00m CfTimeoutError \u001b[38;5;28;01mas\u001b[39;00m e:\n\u001b[0;32m    569\u001b[0m     \u001b[38;5;28;01mraise\u001b[39;00m \u001b[38;5;167;01mTimeoutError\u001b[39;00m \u001b[38;5;28;01mfrom\u001b[39;00m \u001b[38;5;21;01me\u001b[39;00m\n",
      "File \u001b[1;32m~\\anaconda3\\Lib\\concurrent\\futures\\_base.py:451\u001b[0m, in \u001b[0;36mFuture.result\u001b[1;34m(self, timeout)\u001b[0m\n\u001b[0;32m    448\u001b[0m \u001b[38;5;28;01melif\u001b[39;00m \u001b[38;5;28mself\u001b[39m\u001b[38;5;241m.\u001b[39m_state \u001b[38;5;241m==\u001b[39m FINISHED:\n\u001b[0;32m    449\u001b[0m     \u001b[38;5;28;01mreturn\u001b[39;00m \u001b[38;5;28mself\u001b[39m\u001b[38;5;241m.\u001b[39m__get_result()\n\u001b[1;32m--> 451\u001b[0m \u001b[38;5;28mself\u001b[39m\u001b[38;5;241m.\u001b[39m_condition\u001b[38;5;241m.\u001b[39mwait(timeout)\n\u001b[0;32m    453\u001b[0m \u001b[38;5;28;01mif\u001b[39;00m \u001b[38;5;28mself\u001b[39m\u001b[38;5;241m.\u001b[39m_state \u001b[38;5;129;01min\u001b[39;00m [CANCELLED, CANCELLED_AND_NOTIFIED]:\n\u001b[0;32m    454\u001b[0m     \u001b[38;5;28;01mraise\u001b[39;00m CancelledError()\n",
      "File \u001b[1;32m~\\anaconda3\\Lib\\threading.py:320\u001b[0m, in \u001b[0;36mCondition.wait\u001b[1;34m(self, timeout)\u001b[0m\n\u001b[0;32m    318\u001b[0m \u001b[38;5;28;01mtry\u001b[39;00m:    \u001b[38;5;66;03m# restore state no matter what (e.g., KeyboardInterrupt)\u001b[39;00m\n\u001b[0;32m    319\u001b[0m     \u001b[38;5;28;01mif\u001b[39;00m timeout \u001b[38;5;129;01mis\u001b[39;00m \u001b[38;5;28;01mNone\u001b[39;00m:\n\u001b[1;32m--> 320\u001b[0m         waiter\u001b[38;5;241m.\u001b[39macquire()\n\u001b[0;32m    321\u001b[0m         gotit \u001b[38;5;241m=\u001b[39m \u001b[38;5;28;01mTrue\u001b[39;00m\n\u001b[0;32m    322\u001b[0m     \u001b[38;5;28;01melse\u001b[39;00m:\n",
      "\u001b[1;31mKeyboardInterrupt\u001b[0m: "
     ]
    }
   ],
   "source": [
    "from sklearn.model_selection import GridSearchCV\n",
    "gsearch1 = GridSearchCV(estimator = XGBClassifier( learning_rate =0.1, n_estimators=140, \n",
    " objective= 'binary:logistic', nthread=4, scale_pos_weight=1, seed=27), \n",
    " param_grid = param_test1, scoring='roc_auc',n_jobs=4, cv=5)\n",
    "\n",
    "gsearch1.fit(X_train, y_train)\n",
    "gsearch1.grid_scores_, gsearch1.best_params_, gsearch1.best_score_"
   ]
  },
  {
   "cell_type": "code",
   "execution_count": 468,
   "id": "f7737c52",
   "metadata": {},
   "outputs": [
    {
     "ename": "AttributeError",
     "evalue": "type object 'XGBClassifier' has no attribute 'train'",
     "output_type": "error",
     "traceback": [
      "\u001b[1;31m---------------------------------------------------------------------------\u001b[0m",
      "\u001b[1;31mAttributeError\u001b[0m                            Traceback (most recent call last)",
      "Cell \u001b[1;32mIn[468], line 1\u001b[0m\n\u001b[1;32m----> 1\u001b[0m model \u001b[38;5;241m=\u001b[39m XGBClassifier\u001b[38;5;241m.\u001b[39mtrain(\n\u001b[0;32m      2\u001b[0m     params,\n\u001b[0;32m      3\u001b[0m     dtrain,\n\u001b[0;32m      4\u001b[0m     num_boost_round\u001b[38;5;241m=\u001b[39mnum_boost_round,\n\u001b[0;32m      5\u001b[0m     evals\u001b[38;5;241m=\u001b[39m[(dtest, \u001b[38;5;124m\"\u001b[39m\u001b[38;5;124mTest\u001b[39m\u001b[38;5;124m\"\u001b[39m)],\n\u001b[0;32m      6\u001b[0m     early_stopping_rounds\u001b[38;5;241m=\u001b[39m\u001b[38;5;241m10\u001b[39m\n\u001b[0;32m      7\u001b[0m )\n",
      "\u001b[1;31mAttributeError\u001b[0m: type object 'XGBClassifier' has no attribute 'train'"
     ]
    }
   ],
   "source": [
    "model = XGBClassifier.train(\n",
    "    params,\n",
    "    dtrain,\n",
    "    num_boost_round=num_boost_round,\n",
    "    evals=[(dtest, \"Test\")],\n",
    "    early_stopping_rounds=10\n",
    ")"
   ]
  },
  {
   "cell_type": "code",
   "execution_count": 467,
   "id": "5907677c",
   "metadata": {},
   "outputs": [
    {
     "ename": "AttributeError",
     "evalue": "type object 'XGBClassifier' has no attribute 'cv'",
     "output_type": "error",
     "traceback": [
      "\u001b[1;31m---------------------------------------------------------------------------\u001b[0m",
      "\u001b[1;31mAttributeError\u001b[0m                            Traceback (most recent call last)",
      "Cell \u001b[1;32mIn[467], line 1\u001b[0m\n\u001b[1;32m----> 1\u001b[0m cv_results \u001b[38;5;241m=\u001b[39m XGBClassifier\u001b[38;5;241m.\u001b[39mcv(\n\u001b[0;32m      2\u001b[0m     params,\n\u001b[0;32m      3\u001b[0m     dtrain,\n\u001b[0;32m      4\u001b[0m     num_boost_round\u001b[38;5;241m=\u001b[39mnum_boost_round,\n\u001b[0;32m      5\u001b[0m     seed\u001b[38;5;241m=\u001b[39m\u001b[38;5;241m42\u001b[39m,\n\u001b[0;32m      6\u001b[0m     nfold\u001b[38;5;241m=\u001b[39m\u001b[38;5;241m5\u001b[39m,\n\u001b[0;32m      7\u001b[0m     metrics\u001b[38;5;241m=\u001b[39m{\u001b[38;5;124m'\u001b[39m\u001b[38;5;124mmae\u001b[39m\u001b[38;5;124m'\u001b[39m},\n\u001b[0;32m      8\u001b[0m     early_stopping_rounds\u001b[38;5;241m=\u001b[39m\u001b[38;5;241m10\u001b[39m\n\u001b[0;32m      9\u001b[0m )\n",
      "\u001b[1;31mAttributeError\u001b[0m: type object 'XGBClassifier' has no attribute 'cv'"
     ]
    }
   ],
   "source": [
    "cv_results = XGBClassifier.cv(\n",
    "    params,\n",
    "    dtrain,\n",
    "    num_boost_round=num_boost_round,\n",
    "    seed=42,\n",
    "    nfold=5,\n",
    "    metrics={'mae'},\n",
    "    early_stopping_rounds=10\n",
    ")"
   ]
  },
  {
   "cell_type": "code",
   "execution_count": 450,
   "id": "a5535eba",
   "metadata": {},
   "outputs": [
    {
     "data": {
      "text/html": [
       "<style>#sk-container-id-14 {color: black;background-color: white;}#sk-container-id-14 pre{padding: 0;}#sk-container-id-14 div.sk-toggleable {background-color: white;}#sk-container-id-14 label.sk-toggleable__label {cursor: pointer;display: block;width: 100%;margin-bottom: 0;padding: 0.3em;box-sizing: border-box;text-align: center;}#sk-container-id-14 label.sk-toggleable__label-arrow:before {content: \"▸\";float: left;margin-right: 0.25em;color: #696969;}#sk-container-id-14 label.sk-toggleable__label-arrow:hover:before {color: black;}#sk-container-id-14 div.sk-estimator:hover label.sk-toggleable__label-arrow:before {color: black;}#sk-container-id-14 div.sk-toggleable__content {max-height: 0;max-width: 0;overflow: hidden;text-align: left;background-color: #f0f8ff;}#sk-container-id-14 div.sk-toggleable__content pre {margin: 0.2em;color: black;border-radius: 0.25em;background-color: #f0f8ff;}#sk-container-id-14 input.sk-toggleable__control:checked~div.sk-toggleable__content {max-height: 200px;max-width: 100%;overflow: auto;}#sk-container-id-14 input.sk-toggleable__control:checked~label.sk-toggleable__label-arrow:before {content: \"▾\";}#sk-container-id-14 div.sk-estimator input.sk-toggleable__control:checked~label.sk-toggleable__label {background-color: #d4ebff;}#sk-container-id-14 div.sk-label input.sk-toggleable__control:checked~label.sk-toggleable__label {background-color: #d4ebff;}#sk-container-id-14 input.sk-hidden--visually {border: 0;clip: rect(1px 1px 1px 1px);clip: rect(1px, 1px, 1px, 1px);height: 1px;margin: -1px;overflow: hidden;padding: 0;position: absolute;width: 1px;}#sk-container-id-14 div.sk-estimator {font-family: monospace;background-color: #f0f8ff;border: 1px dotted black;border-radius: 0.25em;box-sizing: border-box;margin-bottom: 0.5em;}#sk-container-id-14 div.sk-estimator:hover {background-color: #d4ebff;}#sk-container-id-14 div.sk-parallel-item::after {content: \"\";width: 100%;border-bottom: 1px solid gray;flex-grow: 1;}#sk-container-id-14 div.sk-label:hover label.sk-toggleable__label {background-color: #d4ebff;}#sk-container-id-14 div.sk-serial::before {content: \"\";position: absolute;border-left: 1px solid gray;box-sizing: border-box;top: 0;bottom: 0;left: 50%;z-index: 0;}#sk-container-id-14 div.sk-serial {display: flex;flex-direction: column;align-items: center;background-color: white;padding-right: 0.2em;padding-left: 0.2em;position: relative;}#sk-container-id-14 div.sk-item {position: relative;z-index: 1;}#sk-container-id-14 div.sk-parallel {display: flex;align-items: stretch;justify-content: center;background-color: white;position: relative;}#sk-container-id-14 div.sk-item::before, #sk-container-id-14 div.sk-parallel-item::before {content: \"\";position: absolute;border-left: 1px solid gray;box-sizing: border-box;top: 0;bottom: 0;left: 50%;z-index: -1;}#sk-container-id-14 div.sk-parallel-item {display: flex;flex-direction: column;z-index: 1;position: relative;background-color: white;}#sk-container-id-14 div.sk-parallel-item:first-child::after {align-self: flex-end;width: 50%;}#sk-container-id-14 div.sk-parallel-item:last-child::after {align-self: flex-start;width: 50%;}#sk-container-id-14 div.sk-parallel-item:only-child::after {width: 0;}#sk-container-id-14 div.sk-dashed-wrapped {border: 1px dashed gray;margin: 0 0.4em 0.5em 0.4em;box-sizing: border-box;padding-bottom: 0.4em;background-color: white;}#sk-container-id-14 div.sk-label label {font-family: monospace;font-weight: bold;display: inline-block;line-height: 1.2em;}#sk-container-id-14 div.sk-label-container {text-align: center;}#sk-container-id-14 div.sk-container {/* jupyter's `normalize.less` sets `[hidden] { display: none; }` but bootstrap.min.css set `[hidden] { display: none !important; }` so we also need the `!important` here to be able to override the default hidden behavior on the sphinx rendered scikit-learn.org. See: https://github.com/scikit-learn/scikit-learn/issues/21755 */display: inline-block !important;position: relative;}#sk-container-id-14 div.sk-text-repr-fallback {display: none;}</style><div id=\"sk-container-id-14\" class=\"sk-top-container\"><div class=\"sk-text-repr-fallback\"><pre>XGBClassifier(base_score=None, booster=None, callbacks=None,\n",
       "              colsample_bylevel=None, colsample_bynode=None,\n",
       "              colsample_bytree=None, device=None, early_stopping_rounds=None,\n",
       "              enable_categorical=False, eval_metric=None, feature_types=None,\n",
       "              gamma=None, grow_policy=None, importance_type=None,\n",
       "              interaction_constraints=None, learning_rate=None, max_bin=None,\n",
       "              max_cat_threshold=None, max_cat_to_onehot=None,\n",
       "              max_delta_step=None, max_depth=None, max_leaves=None,\n",
       "              min_child_weight=None, missing=nan, monotone_constraints=None,\n",
       "              multi_strategy=None, n_estimators=None, n_jobs=None,\n",
       "              num_parallel_tree=None, objective=&#x27;multi:softprob&#x27;, ...)</pre><b>In a Jupyter environment, please rerun this cell to show the HTML representation or trust the notebook. <br />On GitHub, the HTML representation is unable to render, please try loading this page with nbviewer.org.</b></div><div class=\"sk-container\" hidden><div class=\"sk-item\"><div class=\"sk-estimator sk-toggleable\"><input class=\"sk-toggleable__control sk-hidden--visually\" id=\"sk-estimator-id-38\" type=\"checkbox\" checked><label for=\"sk-estimator-id-38\" class=\"sk-toggleable__label sk-toggleable__label-arrow\">XGBClassifier</label><div class=\"sk-toggleable__content\"><pre>XGBClassifier(base_score=None, booster=None, callbacks=None,\n",
       "              colsample_bylevel=None, colsample_bynode=None,\n",
       "              colsample_bytree=None, device=None, early_stopping_rounds=None,\n",
       "              enable_categorical=False, eval_metric=None, feature_types=None,\n",
       "              gamma=None, grow_policy=None, importance_type=None,\n",
       "              interaction_constraints=None, learning_rate=None, max_bin=None,\n",
       "              max_cat_threshold=None, max_cat_to_onehot=None,\n",
       "              max_delta_step=None, max_depth=None, max_leaves=None,\n",
       "              min_child_weight=None, missing=nan, monotone_constraints=None,\n",
       "              multi_strategy=None, n_estimators=None, n_jobs=None,\n",
       "              num_parallel_tree=None, objective=&#x27;multi:softprob&#x27;, ...)</pre></div></div></div></div></div>"
      ],
      "text/plain": [
       "XGBClassifier(base_score=None, booster=None, callbacks=None,\n",
       "              colsample_bylevel=None, colsample_bynode=None,\n",
       "              colsample_bytree=None, device=None, early_stopping_rounds=None,\n",
       "              enable_categorical=False, eval_metric=None, feature_types=None,\n",
       "              gamma=None, grow_policy=None, importance_type=None,\n",
       "              interaction_constraints=None, learning_rate=None, max_bin=None,\n",
       "              max_cat_threshold=None, max_cat_to_onehot=None,\n",
       "              max_delta_step=None, max_depth=None, max_leaves=None,\n",
       "              min_child_weight=None, missing=nan, monotone_constraints=None,\n",
       "              multi_strategy=None, n_estimators=None, n_jobs=None,\n",
       "              num_parallel_tree=None, objective='multi:softprob', ...)"
      ]
     },
     "execution_count": 450,
     "metadata": {},
     "output_type": "execute_result"
    }
   ],
   "source": [
    "# fit model no training data\n",
    "model = XGBClassifier()\n",
    "model.fit(X_train, y_train)"
   ]
  },
  {
   "cell_type": "code",
   "execution_count": 451,
   "id": "3175b6e4",
   "metadata": {},
   "outputs": [
    {
     "name": "stdout",
     "output_type": "stream",
     "text": [
      "Accuracy: 40.80%\n"
     ]
    }
   ],
   "source": [
    "# make predictions for test data\n",
    "y_pred = model.predict(X_test)\n",
    "predictions = [round(value) for value in y_pred]\n",
    "# evaluate predictions\n",
    "accuracy = accuracy_score(y_test, predictions)\n",
    "print(\"Accuracy: %.2f%%\" % (accuracy * 100.0))"
   ]
  },
  {
   "cell_type": "markdown",
   "id": "e3673ed2",
   "metadata": {},
   "source": [
    "# SVN"
   ]
  },
  {
   "cell_type": "code",
   "execution_count": 76,
   "id": "10310632",
   "metadata": {},
   "outputs": [],
   "source": [
    "# training a linear SVM classifier \n",
    "from sklearn.svm import SVC \n",
    "svm_model_linear = SVC(kernel = 'linear', C = 1).fit(X_train, y_train) \n",
    "svm_predictions = svm_model_linear.predict(X_test) \n",
    "  \n",
    "# model accuracy for X_test   \n",
    "accuracy = svm_model_linear.score(X_test, y_test) \n",
    "  \n",
    "# creating a confusion matrix \n",
    "cm = confusion_matrix(y_test, svm_predictions) "
   ]
  },
  {
   "cell_type": "code",
   "execution_count": 77,
   "id": "11d6d9fd",
   "metadata": {},
   "outputs": [
    {
     "data": {
      "text/plain": [
       "0.47701149425287354"
      ]
     },
     "execution_count": 77,
     "metadata": {},
     "output_type": "execute_result"
    }
   ],
   "source": [
    "accuracy"
   ]
  },
  {
   "cell_type": "markdown",
   "id": "965ca18c",
   "metadata": {},
   "source": [
    "# Logistic Regression"
   ]
  },
  {
   "cell_type": "code",
   "execution_count": 78,
   "id": "7193908a",
   "metadata": {},
   "outputs": [
    {
     "name": "stderr",
     "output_type": "stream",
     "text": [
      "C:\\Users\\joohi\\anaconda3\\Lib\\site-packages\\sklearn\\linear_model\\_logistic.py:458: ConvergenceWarning: lbfgs failed to converge (status=1):\n",
      "STOP: TOTAL NO. of ITERATIONS REACHED LIMIT.\n",
      "\n",
      "Increase the number of iterations (max_iter) or scale the data as shown in:\n",
      "    https://scikit-learn.org/stable/modules/preprocessing.html\n",
      "Please also refer to the documentation for alternative solver options:\n",
      "    https://scikit-learn.org/stable/modules/linear_model.html#logistic-regression\n",
      "  n_iter_i = _check_optimize_result(\n"
     ]
    }
   ],
   "source": [
    "modellog = LogisticRegression(random_state=RANDOM_SEED)\n",
    "modellog = modellog.fit(X_train, y_train)"
   ]
  },
  {
   "cell_type": "code",
   "execution_count": 79,
   "id": "1d9e0ada",
   "metadata": {},
   "outputs": [],
   "source": [
    "predicted_prob_log = model.predict_proba(X_test)[:,1]\n",
    "predicted_log = model.predict(X_test)"
   ]
  },
  {
   "cell_type": "code",
   "execution_count": 80,
   "id": "c3429733",
   "metadata": {},
   "outputs": [
    {
     "name": "stdout",
     "output_type": "stream",
     "text": [
      "Accuracy (overall correct predictions): 0.62\n"
     ]
    }
   ],
   "source": [
    "## Accuray e AUC\n",
    "accuracy = accuracy_score(y_test, predicted_log)\n",
    "#auc = roc_auc_score(y_test, predicted_prob_log)\n",
    "print(\"Accuracy (overall correct predictions):\",  round(accuracy,2))\n",
    "#print(\"Auc:\", round(auc,2))\n",
    "    \n",
    "## Precision e Recall\n",
    "#recall = recall_score(y_test, predicted_log)\n",
    "#precision = precision_score(y_test, predicted_log)\n",
    "#print(\"Recall (all 1s predicted right):\", round(recall,2))\n",
    "#print(\"Precision (confidence when predicting a 1):\", round(precision,2))\n",
    "#print(\"Detail:\")\n",
    "#print(classification_report(y_test, predicted_log, target_names=[str(i) for i in np.unique(y_test)]))"
   ]
  },
  {
   "cell_type": "markdown",
   "id": "4b968654",
   "metadata": {},
   "source": [
    "# KNN"
   ]
  },
  {
   "cell_type": "code",
   "execution_count": 81,
   "id": "304d9295",
   "metadata": {},
   "outputs": [
    {
     "name": "stdout",
     "output_type": "stream",
     "text": [
      "Accuracy (overall correct predictions): 0.62\n",
      "[[67 19 30]\n",
      " [27 70 19]\n",
      " [29  8 79]]\n",
      "              precision    recall  f1-score   support\n",
      "\n",
      "           0       0.54      0.58      0.56       116\n",
      "           1       0.72      0.60      0.66       116\n",
      "           2       0.62      0.68      0.65       116\n",
      "\n",
      "    accuracy                           0.62       348\n",
      "   macro avg       0.63      0.62      0.62       348\n",
      "weighted avg       0.63      0.62      0.62       348\n",
      "\n"
     ]
    }
   ],
   "source": [
    "# Use the KNN classifier to fit data:\n",
    "classifierKNN = KNeighborsClassifier(n_neighbors=5)\n",
    "classifierKNN.fit(X_train, y_train) \n",
    "# Predict y data with classifier: \n",
    "y_predictKNN = classifierKNN.predict(X_test)\n",
    "\n",
    "## Accuray  AUC\n",
    "accuracy = accuracy_score(y_test, y_predictKNN)\n",
    "\n",
    "print(\"Accuracy (overall correct predictions):\",  round(accuracy,2))\n",
    "#print(\"Auc:\", round(auc,2))\n",
    "\n",
    "# Print results: \n",
    "print(confusion_matrix(y_test, y_predictKNN))\n",
    "print(classification_report(y_test, y_predictKNN)) "
   ]
  },
  {
   "cell_type": "markdown",
   "id": "27775a1e",
   "metadata": {},
   "source": [
    "# GaussianNB"
   ]
  },
  {
   "cell_type": "code",
   "execution_count": 82,
   "id": "2cd7af76",
   "metadata": {},
   "outputs": [
    {
     "name": "stdout",
     "output_type": "stream",
     "text": [
      "0.5201149425287356\n"
     ]
    }
   ],
   "source": [
    "# Initialize classifier:\n",
    "gnb = GaussianNB()\n",
    "# Train the classifier:\n",
    "modelGNB = gnb.fit(X_train, y_train) \n",
    "# Make predictions with the classifier:\n",
    "predictive_labels = gnb.predict(X_test)\n",
    "#print(predictive_labels)\n",
    "# Evaluate label (subsets) accuracy:\n",
    "print(accuracy_score(y_test, predictive_labels))"
   ]
  }
 ],
 "metadata": {
  "kernelspec": {
   "display_name": "Python 3 (ipykernel)",
   "language": "python",
   "name": "python3"
  },
  "language_info": {
   "codemirror_mode": {
    "name": "ipython",
    "version": 3
   },
   "file_extension": ".py",
   "mimetype": "text/x-python",
   "name": "python",
   "nbconvert_exporter": "python",
   "pygments_lexer": "ipython3",
   "version": "3.11.5"
  }
 },
 "nbformat": 4,
 "nbformat_minor": 5
}
